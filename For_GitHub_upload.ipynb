{
  "cells": [
    {
      "cell_type": "markdown",
      "metadata": {
        "id": "UVu8abm1eWhM"
      },
      "source": [
        "House Price Prediction "
      ]
    },
    {
      "cell_type": "markdown",
      "metadata": {
        "id": "E7LRq9FveWRg"
      },
      "source": [
        "## System and Libraries Set Up\n",
        "\n"
      ]
    },
    {
      "cell_type": "code",
      "execution_count": null,
      "metadata": {
        "id": "wM4MlKXLeJ0Q",
        "colab": {
          "base_uri": "https://localhost:8080/"
        },
        "outputId": "c90ac6ba-9670-4738-9a62-0d7417576bd1"
      },
      "outputs": [
        {
          "output_type": "stream",
          "name": "stdout",
          "text": [
            "Mounted at /content/gdrive\n"
          ]
        }
      ],
      "source": [
        "import os \n",
        "from google.colab import drive\n",
        "drive.mount('/content/gdrive')"
      ]
    },
    {
      "cell_type": "code",
      "execution_count": null,
      "metadata": {
        "id": "dMrHrE1Tc61Y"
      },
      "outputs": [],
      "source": [
        "os.chdir(\"/content/gdrive/Shareddrives/Data 270\")"
      ]
    },
    {
      "cell_type": "code",
      "source": [
        "#code for runtime measurement\n",
        "!pip install ipython-autotime\n",
        "%load_ext autotime"
      ],
      "metadata": {
        "id": "q0T33lH_EOF3"
      },
      "execution_count": null,
      "outputs": []
    },
    {
      "cell_type": "code",
      "execution_count": null,
      "metadata": {
        "id": "gGhZabqB1u5F"
      },
      "outputs": [],
      "source": [
        "pip install xgboost\n",
        "pip install tabula-py\n",
        "!pip install matplotlib-venn"
      ]
    },
    {
      "cell_type": "code",
      "execution_count": null,
      "metadata": {
        "id": "oZkr_-SlwOrg"
      },
      "outputs": [],
      "source": [
        "import requests\n",
        "import re\n",
        "import json\n",
        "import pandas as pd\n",
        "import warnings\n",
        "import numpy as np\n",
        "import matplotlib.pyplot as plt\n",
        "import seaborn as sns\n",
        "from numpy import loadtxt\n",
        "from sklearn.model_selection import train_test_split\n",
        "from sklearn.metrics import accuracy_score\n",
        "from sklearn.ensemble import RandomForestRegressor\n",
        "from xgboost import XGBRegressor\n",
        "from sklearn.model_selection import cross_val_score\n",
        "from sklearn.model_selection import RepeatedKFold\n",
        "from numpy import absolute\n",
        "from sklearn.metrics import mean_squared_error\n",
        "from sklearn.metrics import r2_score\n",
        "from sklearn import preprocessing\n",
        "from sklearn.model_selection import train_test_split\n",
        "from sklearn.preprocessing import LabelEncoder\n",
        "from sklearn.decomposition import PCA,TruncatedSVD\n",
        "from sklearn import preprocessing\n",
        "from sklearn.preprocessing import StandardScaler\n",
        "import keras\n",
        "from sklearn.model_selection import cross_val_score,KFold\n",
        "from sklearn.neighbors import KNeighborsRegressor\n",
        "from math import sqrt\n",
        "from sklearn.metrics import mean_absolute_error"
      ]
    },
    {
      "cell_type": "code",
      "execution_count": null,
      "metadata": {
        "id": "6lRa_uV_WpQt"
      },
      "outputs": [],
      "source": [
        "# display option\n",
        "pd.set_option('display.max_columns', 60)"
      ]
    },
    {
      "cell_type": "code",
      "execution_count": null,
      "metadata": {
        "id": "8kxC1bIk48p2"
      },
      "outputs": [],
      "source": [
        "!pip install xlrd==1.2.0"
      ]
    },
    {
      "cell_type": "code",
      "execution_count": null,
      "metadata": {
        "id": "KKu5jN89osUp"
      },
      "outputs": [],
      "source": [
        "# https://pypi.python.org/pypi/libarchive\n",
        "!apt-get -qq install -y libarchive-dev && pip install -U libarchive\n",
        "import libarchive"
      ]
    },
    {
      "cell_type": "code",
      "execution_count": null,
      "metadata": {
        "id": "ziYDqBvBosXK"
      },
      "outputs": [],
      "source": [
        "# https://pypi.python.org/pypi/pydot\n",
        "!apt-get -qq install -y graphviz && pip install pydot\n",
        "import pydot"
      ]
    },
    {
      "cell_type": "markdown",
      "metadata": {
        "id": "BWSP9moWyQf9"
      },
      "source": [
        "## Data Collection"
      ]
    },
    {
      "cell_type": "markdown",
      "metadata": {
        "id": "Mmedb-4Xhzm8"
      },
      "source": [
        "### Cities and Counties Data From Wikipedia"
      ]
    },
    {
      "cell_type": "code",
      "execution_count": null,
      "metadata": {
        "id": "ElpbQk08h5bq"
      },
      "outputs": [],
      "source": [
        "cities = pd.read_csv(\"Datasets/citiesncounties.csv\")"
      ]
    },
    {
      "cell_type": "code",
      "execution_count": null,
      "metadata": {
        "id": "lEQOuAVlh5ze"
      },
      "outputs": [],
      "source": [
        "cities_list = np.array(cities[\"Name\"]+'/')"
      ]
    },
    {
      "cell_type": "code",
      "execution_count": null,
      "metadata": {
        "id": "igCRRqm1P72j"
      },
      "outputs": [],
      "source": [
        "cities = cities.rename(columns={\"Name\": \"City\"})"
      ]
    },
    {
      "cell_type": "code",
      "execution_count": null,
      "metadata": {
        "id": "X9Ek6tdRrZlp"
      },
      "outputs": [],
      "source": [
        "len(cities)"
      ]
    },
    {
      "cell_type": "markdown",
      "metadata": {
        "id": "AtqcHfp7c_ww"
      },
      "source": [
        "###  Collect Zillow"
      ]
    },
    {
      "cell_type": "markdown",
      "metadata": {
        "id": "Q1ZlvbrOSTh-"
      },
      "source": [
        " "
      ]
    },
    {
      "cell_type": "code",
      "execution_count": null,
      "metadata": {
        "id": "waS7q4tMwmr0"
      },
      "outputs": [],
      "source": [
        "warnings.filterwarnings('ignore')"
      ]
    },
    {
      "cell_type": "code",
      "execution_count": null,
      "metadata": {
        "id": "WP8wAi7htYmL"
      },
      "outputs": [],
      "source": [
        "req_headers = {\n",
        "    'accept': 'text/html,application/xhtml+xml,application/xml;q=0.9,image/webp,image/apng,*/*;q=0.8',\n",
        "    'accept-encoding': 'gzip, deflate, br',\n",
        "    'accept-language': 'en-US,en;q=0.8',\n",
        "    'upgrade-insecure-0requests': '1',\n",
        "    'user-agent': 'Mozilla/5.0 (Windows NT 10.0; Win64; x64) AppleWebKit/537.36 (KHTML, like Gecko) Chrome/61.0.3163.100 Safari/537.36'\n",
        "}"
      ]
    },
    {
      "cell_type": "code",
      "execution_count": null,
      "metadata": {
        "id": "i3vjaZs0wmuI"
      },
      "outputs": [],
      "source": [
        "# To avoid being blocked by the Zillow server we need to run this piece of code by changing the cities_list indices 20 cities at the time\n",
        "all_data = []\n",
        "#url = []\n",
        "Cities = cities_list # [401:482]\n",
        "for city in Cities : \n",
        "    url = []\n",
        "    url.append('https://www.zillow.com/homes/for_sale/'+ city)\n",
        "    for i in range(1,25):\n",
        "        url.append('https://www.zillow.com/homes/for_sale/'+ city+'/'+str(i)+'_p/')\n",
        "        data_list = []\n",
        "    with requests.Session() as s:\n",
        "        r= s.get(url[i], headers=req_headers)\n",
        "        data = json.loads(re.search(r'!--(\\{\"queryState\".*?)-->', r.text).group(1))\n",
        "        data_list.append(data)\n",
        "    all_data = all_data + data_list"
      ]
    },
    {
      "cell_type": "code",
      "execution_count": null,
      "metadata": {
        "id": "pxzOuhOQ8PSW"
      },
      "outputs": [],
      "source": [
        "df = pd.DataFrame()\n",
        "def make_frame(frame):\n",
        "    for i in all_data:\n",
        "        for item in i['cat1']['searchResults']['listResults']:\n",
        "            frame = frame.append(item, ignore_index=True)\n",
        "    return frame\n",
        "\n",
        "houses = make_frame(df)\n",
        "houses.head()\n",
        "# houses.to_csv('houses_test5.csv')"
      ]
    },
    {
      "cell_type": "code",
      "execution_count": null,
      "metadata": {
        "id": "1rP6B7WkJBSy"
      },
      "outputs": [],
      "source": [
        "import os\n",
        "import glob\n",
        "cwd= os.path.abspath('Datasets/houses_files/')\n",
        "file_list = os.listdir(cwd)\n",
        "zillow_houses = pd.DataFrame()\n",
        "for file in file_list:\n",
        "  df= pd.read_csv('Datasets/houses_files/'+ file)\n",
        "  zillow_houses = zillow_houses.append(df, ignore_index=True)\n",
        "zillow_houses.shape"
      ]
    },
    {
      "cell_type": "code",
      "execution_count": null,
      "metadata": {
        "id": "JSUyXQAYCYSC"
      },
      "outputs": [],
      "source": [
        "zillow_houses=zillow_houses.drop(['Unnamed: 0'], axis = 1)"
      ]
    },
    {
      "cell_type": "code",
      "execution_count": null,
      "metadata": {
        "id": "o7VrW6Mj-87E"
      },
      "outputs": [],
      "source": [
        "#####  Uncomment to run again\n",
        "#zillow_houses.to_csv('houses_raw.csv', index=False)\n",
        "#!cp houses_raw.csv \"/content/gdrive/Shareddrives/Data 270/Datasets/houses_files\""
      ]
    },
    {
      "cell_type": "markdown",
      "metadata": {
        "id": "BhennVrGdWRM"
      },
      "source": [
        "### Collect Great Schools "
      ]
    },
    {
      "cell_type": "code",
      "execution_count": null,
      "metadata": {
        "id": "bR1iirv6nWN-"
      },
      "outputs": [],
      "source": [
        "# Importing necessary libraries\n",
        "from bs4 import BeautifulSoup\n",
        "import requests\n",
        "import json\n",
        "import pandas as pd"
      ]
    },
    {
      "cell_type": "code",
      "execution_count": null,
      "metadata": {
        "id": "az7ZyRq6nWYj"
      },
      "outputs": [],
      "source": [
        "# URL of the website to scrape\n",
        "raw_url = \"https://www.greatschools.org/california/\"\n",
        "\n",
        "# Zip codes to scrape from\n",
        "zip_codes = range(94000,95150)\n",
        "\n",
        "# Create empty data frame.\n",
        "schools_list_df = pd.DataFrame()"
      ]
    },
    {
      "cell_type": "code",
      "execution_count": null,
      "metadata": {
        "id": "IUMo_rgLnWbT"
      },
      "outputs": [],
      "source": [
        "# \"san-jose/schools/\"\n",
        "\n",
        "# cities list from external source collected\n",
        "cities = pd.read_csv(\"Datasets/citiesncounties.csv\")\n",
        "cities_list = np.array(cities[\"Name\"]+'/') \n",
        "# Create empty data frame.\n",
        "schools_list_df = pd.DataFrame()\n",
        "\n",
        "# # Loop through the list of zip_codes.\n",
        "for city in cities_list:\n",
        "  raw_url_with_city = raw_url+str(city.replace(\" \",\"-\"))+\"/schools/\"\n",
        "  #Loop through the pages of each zip code.\n",
        "  for page in range(1,100):\n",
        "    raw_url_with_city_and_page = raw_url_with_city + \"?page=\"+ str(page)\n",
        "    print(raw_url_with_city_and_page)\n",
        "    # Make html request.\n",
        "    response = requests.get(raw_url_with_city)\n",
        "    # Parse html format to soup.\n",
        "    soup = BeautifulSoup(response.content, \"html.parser\")\n",
        "    script_content = soup.findAll('script')\n",
        "    # Find the total number of pages.\n",
        "    total_num_pages_index = script_content[0].contents[0].find(\"totalPages\")\n",
        "    total_num_pages = script_content[0].contents[0][total_num_pages_index+12:total_num_pages_index+13]\n",
        "    \n",
        "    # Break if the total_num_pages is not a digit.\n",
        "    if(total_num_pages.isdigit() == False):\n",
        "      break;\n",
        "    # Break the loop if page is greater than total_number_of_pages for that zip code.\n",
        "    if(page > int(total_num_pages)):\n",
        "      break\n",
        "    \n",
        "    table_string = script_content[0].contents[0].split(\"gon.search={\\\"schools\\\":[\")[1].split(\"\\\"resultSummary\\\"\")[0]\n",
        "    # print(table_string)\n",
        "    # Split table string to rows. Each row_string is a school.\n",
        "    row_strings = table_string.split(\"{\\\"id\\\"\")\n",
        "    row_strings[-1] = row_strings[-1][:-1]\n",
        "    # Iterate through each school.\n",
        "    for row_string in row_strings[1:-1]:\n",
        "      row_json = (\"{\\\"id\\\"\"+row_string)[:-1]\n",
        "      # print(row_json)\n",
        "      # Convert json format strings to pandas format and append it to the data frame.\n",
        "      schools_list_df = schools_list_df.append(pd.json_normalize(json.loads(row_json)))\n"
      ]
    },
    {
      "cell_type": "code",
      "execution_count": null,
      "metadata": {
        "id": "VDIQ43HknWeL"
      },
      "outputs": [],
      "source": [
        "#Export dataframe to csv file.\n",
        "schools_list_df.to_csv('bay_area_schools_city_wise_all_cities.csv')"
      ]
    },
    {
      "cell_type": "markdown",
      "metadata": {
        "id": "AZ7A6Lp2c_JU"
      },
      "source": [
        "### Convert GDP to CSV"
      ]
    },
    {
      "cell_type": "code",
      "execution_count": null,
      "metadata": {
        "id": "CCI9Vh_tddc0"
      },
      "outputs": [],
      "source": [
        "from tabula.io import convert_into\n",
        "import tabula as tb\n",
        "import pandas as pd\n",
        "file =\"/content/gdrive/Shareddrives/Data 270/lagdp1221.pdf\"\n",
        "# table = tb.read_pdf(file,pages='8-9')\n",
        "csv_table=tb.convert_into(file,\"/content/gdrive/Shareddrives/Data 270/Datasets/gdp_files/gdp_raw.csv\",pages='5-56')\n",
        "csv_table"
      ]
    },
    {
      "cell_type": "markdown",
      "metadata": {
        "id": "fk16Z7A9gtpN"
      },
      "source": [
        "https://www.bea.gov/sites/default/files/2021-12/lagdp1221.pdf\n"
      ]
    },
    {
      "cell_type": "markdown",
      "metadata": {
        "id": "EPcT8-t1deNR"
      },
      "source": [
        "### Crime Dataset "
      ]
    },
    {
      "cell_type": "code",
      "execution_count": null,
      "metadata": {
        "id": "N9jM7HvqZnE6"
      },
      "outputs": [],
      "source": [
        "crimedata = pd.DataFrame(pd.read_excel(\"/content/gdrive/Shareddrives/Data 270/Datasets/crime_files/crime_raw.xlsx\"))\n",
        "crimedata"
      ]
    },
    {
      "cell_type": "markdown",
      "metadata": {
        "id": "PG-2lNQMVuoc"
      },
      "source": []
    },
    {
      "cell_type": "code",
      "execution_count": null,
      "metadata": {
        "id": "jt58U_2WhfaO"
      },
      "outputs": [],
      "source": []
    },
    {
      "cell_type": "markdown",
      "metadata": {
        "id": "aU1a2zqLV58x"
      },
      "source": [
        "## Data Exploration and Cleaning"
      ]
    },
    {
      "cell_type": "markdown",
      "metadata": {
        "id": "hbJ5o7O2WMPT"
      },
      "source": [
        "### Zillow Dataset"
      ]
    },
    {
      "cell_type": "code",
      "execution_count": null,
      "metadata": {
        "id": "pu6fCv5pf5aa"
      },
      "outputs": [],
      "source": [
        "houses = pd.read_csv('/content/gdrive/Shareddrives/Data 270/Datasets/houses_files/houses_raw.csv')"
      ]
    },
    {
      "cell_type": "code",
      "execution_count": null,
      "metadata": {
        "id": "zesHcDQJCr66"
      },
      "outputs": [],
      "source": [
        "houses.head()"
      ]
    },
    {
      "cell_type": "code",
      "execution_count": null,
      "metadata": {
        "id": "V7rI_hV8WWTw"
      },
      "outputs": [],
      "source": [
        "houses.shape"
      ]
    },
    {
      "cell_type": "code",
      "execution_count": null,
      "metadata": {
        "id": "h8Y_vIndaWHc"
      },
      "outputs": [],
      "source": [
        "houses.columns"
      ]
    },
    {
      "cell_type": "code",
      "execution_count": null,
      "metadata": {
        "id": "O6oUDfIJhIie"
      },
      "outputs": [],
      "source": [
        "#Determining the Null Value Data\n",
        "round(( houses.isna().sum()/len(houses) ) * 100).sort_values(ascending=False)"
      ]
    },
    {
      "cell_type": "code",
      "execution_count": null,
      "metadata": {
        "id": "ecXZVg47eKxY"
      },
      "outputs": [],
      "source": [
        "houses.info()"
      ]
    },
    {
      "cell_type": "code",
      "execution_count": null,
      "metadata": {
        "id": "YNbuzXqArKyy"
      },
      "outputs": [],
      "source": [
        "len(houses[\"addressCity\"].unique())"
      ]
    },
    {
      "cell_type": "code",
      "execution_count": null,
      "metadata": {
        "id": "FKntGM0F783S"
      },
      "outputs": [],
      "source": [
        "houses.plot.box(title=\"Histograms\", figsize=(12,12))"
      ]
    },
    {
      "cell_type": "code",
      "execution_count": null,
      "metadata": {
        "id": "2q4DHBlrjRdE"
      },
      "outputs": [],
      "source": [
        "houses.describe()"
      ]
    },
    {
      "cell_type": "code",
      "execution_count": null,
      "metadata": {
        "id": "sL58N1fBlFpN"
      },
      "outputs": [],
      "source": [
        "def describe_cat(data):\n",
        "   table=pd.DataFrame(columns = data.select_dtypes(\"object\").columns, index = [\"count\", \"nulls\",\"%miss\", 'cardinality', \"mode\", \"mode freq\", \"mode%\", \"2nd mode\", \"2nd mode freq\", \"2nd mode%\"])\n",
        "   for col in data.select_dtypes(\"object\").columns :\n",
        "       table.loc[\"count\"][col] = len(data[col])\n",
        "       table.loc[\"nulls\"][col] = len(data[data[col].isna() == True][col])\n",
        "       if table.loc[\"nulls\"][col] !=0 :\n",
        "           table.loc[\"%miss\"][col] = table.loc[\"nulls\"][col]/table.loc[\"count\"][col]\n",
        "       table.loc[\"cardinality\"][col]= len(data[col].unique())\n",
        "       if len(data[col].value_counts()) >= 1: \n",
        "           table.loc[\"mode\"][col]= data[col].value_counts().index[0]\n",
        "           table.loc[\"mode freq\"][col]= data[col].value_counts()[0]\n",
        "           #table.loc[\"mode%\"][col]= table.loc[\"mode freq\"][col]/table.loc[\"count\"][col]\n",
        "       if len(data[col].value_counts()) >= 2:\n",
        "           table.loc[\"2nd mode\"][col]= data[col].value_counts().index[1]\n",
        "           table.loc[\"2nd mode freq\"][col]= data[col].value_counts()[1]\n",
        "           #table.loc[\"2nd mode%\"][col]= table.loc[\"2nd mode freq\"][col]/table.loc[\"count\"][col]  \n",
        "   return table"
      ]
    },
    {
      "cell_type": "code",
      "execution_count": null,
      "metadata": {
        "id": "gQ_Ne6s2SJsu"
      },
      "outputs": [],
      "source": [
        "houses['sgapt'].value_counts()"
      ]
    },
    {
      "cell_type": "code",
      "execution_count": null,
      "metadata": {
        "id": "kWSHv6F6eSMr"
      },
      "outputs": [],
      "source": [
        "houses[\"statusType\"].unique()"
      ]
    },
    {
      "cell_type": "code",
      "execution_count": null,
      "metadata": {
        "id": "oysWFobcepUk"
      },
      "outputs": [],
      "source": [
        "houses[\"statusText\"].unique()"
      ]
    },
    {
      "cell_type": "code",
      "execution_count": null,
      "metadata": {
        "id": "DUDAxG5sgRTS"
      },
      "outputs": [],
      "source": [
        "houses[\"builderName\"].unique()"
      ]
    },
    {
      "cell_type": "code",
      "execution_count": null,
      "metadata": {
        "id": "O7B6mMQy9ME0"
      },
      "outputs": [],
      "source": [
        "houses[\"area\"].unique()"
      ]
    },
    {
      "cell_type": "code",
      "execution_count": null,
      "metadata": {
        "id": "fPNP4U8Bgufg"
      },
      "outputs": [],
      "source": [
        "sgapt= houses.groupby(['sgapt'])['unformattedPrice'].mean().sort_values(ascending=False)\n",
        "sgapt.plot.bar(x=\"sgapt\", y=\"unformattedPrice\", title=\"Average price per type of listing\",figsize=(12, 8),color='tab:blue');"
      ]
    },
    {
      "cell_type": "code",
      "execution_count": null,
      "metadata": {
        "id": "7cC9vMZ1g6cD"
      },
      "outputs": [],
      "source": [
        "houses.groupby(['sgapt'])['unformattedPrice'].mean()"
      ]
    },
    {
      "cell_type": "code",
      "execution_count": null,
      "metadata": {
        "id": "NiNLhVZIhfLs"
      },
      "outputs": [],
      "source": [
        "sgapt= houses.groupby(['sgapt'])['unformattedPrice'].mean().sort_values(ascending=False)\n",
        "sgapt.plot.bar(x=\"sgapt\", y=\"unformattedPrice\", title=\"\",figsize=(12, 8),color='tab:blue');"
      ]
    },
    {
      "cell_type": "code",
      "execution_count": null,
      "metadata": {
        "id": "tY2NyR2Xd9mQ"
      },
      "outputs": [],
      "source": [
        "#Chosen variables\n",
        "houses_final = houses[['statusText','addressCity','addressState','addressZipcode','latLong','beds','baths','area','unformattedPrice']]"
      ]
    },
    {
      "cell_type": "code",
      "execution_count": null,
      "metadata": {
        "id": "AyRPqV3QU_AL"
      },
      "outputs": [],
      "source": [
        "houses_final.info()"
      ]
    },
    {
      "cell_type": "code",
      "execution_count": null,
      "metadata": {
        "id": "4hTB9Qz1nqM7"
      },
      "outputs": [],
      "source": [
        "#Determining the Null Value Data\n",
        "round(( houses_final.isna().sum()/len(houses_final) ) * 100).sort_values(ascending=False)"
      ]
    },
    {
      "cell_type": "code",
      "execution_count": null,
      "metadata": {
        "id": "dZyu1blLHsyU"
      },
      "outputs": [],
      "source": [
        "houses_final.hist(bins=100, figsize=(15, 15), grid=False , color='tab:blue')"
      ]
    },
    {
      "cell_type": "code",
      "execution_count": null,
      "metadata": {
        "id": "L1vGbCrqLNdG"
      },
      "outputs": [],
      "source": [
        "plt.figure(figsize=(12,10))\n",
        "cor = houses_final.corr()\n",
        "sns.heatmap(cor, annot=True, cmap=plt.cm.Reds)\n",
        "plt.show()"
      ]
    },
    {
      "cell_type": "code",
      "execution_count": null,
      "metadata": {
        "id": "yRL0XuYx16Fy"
      },
      "outputs": [],
      "source": [
        "Bathsvsprice= houses_final.groupby(['beds'])['unformattedPrice'].mean().sort_values(ascending=False)\n",
        "Bathsvsprice.plot.bar(x=\"beds\", y=\"unformattedPrice\", title=\"Price per Number of Bathrooms\",figsize=(12, 8),color='tab:blue');\n"
      ]
    },
    {
      "cell_type": "code",
      "execution_count": null,
      "metadata": {
        "id": "KSB7RvXPerBb"
      },
      "outputs": [],
      "source": [
        "beds = houses_final[\"area\"]\n",
        "Price = houses_final[\"unformattedPrice\"]\n",
        "plt.scatter(x=beds, y=Price)"
      ]
    },
    {
      "cell_type": "code",
      "execution_count": null,
      "metadata": {
        "id": "f3_lDwbyerOf"
      },
      "outputs": [],
      "source": [
        "beds = houses_final[\"beds\"]\n",
        "Price = houses_final[\"unformattedPrice\"]\n",
        "plt.scatter(x=beds, y=Price)"
      ]
    },
    {
      "cell_type": "code",
      "execution_count": null,
      "metadata": {
        "id": "H6KkCv4rY-Cc"
      },
      "outputs": [],
      "source": [
        "sgapt= houses_final.groupby(['statusText'])['unformattedPrice'].mean().sort_values(ascending=False)\n",
        "sgapt.plot.bar(x=\"statusText\", y=\"unformattedPrice\", title=\"Average price per type of estate\",figsize=(12, 8),color='tab:blue');\n"
      ]
    },
    {
      "cell_type": "code",
      "execution_count": null,
      "metadata": {
        "id": "alNFFBxH2lTb"
      },
      "outputs": [],
      "source": [
        "houses_final[\"unformattedPrice\"]"
      ]
    },
    {
      "cell_type": "code",
      "execution_count": null,
      "metadata": {
        "id": "laaT2Nbic8Nj"
      },
      "outputs": [],
      "source": [
        "houses_final[houses_final['statusText'] != 'Lot / Land for sale'].groupby(['statusText'])['beds'].min()"
      ]
    },
    {
      "cell_type": "code",
      "execution_count": null,
      "metadata": {
        "id": "OGfRwtJKkrEK"
      },
      "outputs": [],
      "source": [
        "# Remove Lots from the listings\n",
        "print(houses[houses['statusText'] == 'Lot / Land for sale'].shape)"
      ]
    },
    {
      "cell_type": "code",
      "execution_count": null,
      "metadata": {
        "id": "3aPbipWhT-vY"
      },
      "outputs": [],
      "source": [
        "only_houses = houses_final[houses_final['statusText'] != 'Lot / Land for sale']"
      ]
    },
    {
      "cell_type": "code",
      "source": [
        "only_houses['statusText'].unique()"
      ],
      "metadata": {
        "id": "u0kGgqw6fHP2"
      },
      "execution_count": null,
      "outputs": []
    },
    {
      "cell_type": "code",
      "execution_count": null,
      "metadata": {
        "id": "8poZszEBlrv_"
      },
      "outputs": [],
      "source": [
        "len(only_houses)"
      ]
    },
    {
      "cell_type": "code",
      "execution_count": null,
      "metadata": {
        "id": "A_MvooBXGAvh"
      },
      "outputs": [],
      "source": [
        "only_houses.isnull().sum()"
      ]
    },
    {
      "cell_type": "code",
      "execution_count": null,
      "metadata": {
        "id": "So4iQSlpHCom"
      },
      "outputs": [],
      "source": [
        "only_houses.info()"
      ]
    },
    {
      "cell_type": "markdown",
      "source": [],
      "metadata": {
        "id": "I1yzGp_6jPF9"
      }
    },
    {
      "cell_type": "code",
      "execution_count": null,
      "metadata": {
        "id": "5MqKdYRLGT_k"
      },
      "outputs": [],
      "source": [
        "only_houses.dropna(inplace = True)"
      ]
    },
    {
      "cell_type": "code",
      "execution_count": null,
      "metadata": {
        "id": "QSOIIBoYGbOf"
      },
      "outputs": [],
      "source": [
        "only_houses.shape"
      ]
    },
    {
      "cell_type": "code",
      "source": [
        "only_houses.isnull().sum()"
      ],
      "metadata": {
        "id": "uyw6E4d-jS0K"
      },
      "execution_count": null,
      "outputs": []
    },
    {
      "cell_type": "code",
      "execution_count": null,
      "metadata": {
        "id": "8RyI77f96yTY"
      },
      "outputs": [],
      "source": [
        "duplicate = only_houses[only_houses.duplicated()]\n",
        "len(duplicate)"
      ]
    },
    {
      "cell_type": "code",
      "execution_count": null,
      "metadata": {
        "id": "-EMCn4sIuOwB"
      },
      "outputs": [],
      "source": [
        "only_houses.drop_duplicates(inplace =True)"
      ]
    },
    {
      "cell_type": "code",
      "execution_count": null,
      "metadata": {
        "id": "1Wla5BAUuyOY"
      },
      "outputs": [],
      "source": [
        "len(only_houses)"
      ]
    },
    {
      "cell_type": "code",
      "execution_count": null,
      "metadata": {
        "id": "sNP85ZogJ5sV"
      },
      "outputs": [],
      "source": [
        "# Finding Threshholds from each numeric feature\n",
        "def find_thresholds (data):   \n",
        "    table=pd.DataFrame(columns = data.select_dtypes(include=['int64','float64']).columns, index = [\"Q1\", \"Q3\",\"IQR\", 'min', \"max\", \"lower treshold\", \"upper treshold\"])\n",
        "    for col in data.select_dtypes(include=['int64','float64']).columns :\n",
        "        Q1 = data[col].quantile(q=0.25)\n",
        "        Q3 = data[col].quantile(q=0.75)\n",
        "        IQR = Q3-Q1\n",
        "        table.loc[\"Q1\"][col] = Q1\n",
        "        table.loc[\"Q3\"][col] = Q3\n",
        "        table.loc[\"IQR\"][col] = IQR\n",
        "        table.loc['min'][col]= data[col].min()\n",
        "        table.loc[\"max\"][col]= data[col].max()\n",
        "        table.loc[\"lower treshold\"][col]= Q1-(1.5)*IQR\n",
        "        table.loc[\"upper treshold\"][col]= Q3+(1.5)*IQR\n",
        "    return table"
      ]
    },
    {
      "cell_type": "code",
      "execution_count": null,
      "metadata": {
        "id": "OiH2JPi3KGlM"
      },
      "outputs": [],
      "source": [
        "find_thresholds(only_houses)"
      ]
    },
    {
      "cell_type": "code",
      "execution_count": null,
      "metadata": {
        "id": "iDbTVMo6mYYg"
      },
      "outputs": [],
      "source": [
        "def remove_outliers(col, margin): \n",
        "    data = only_houses.drop(only_houses[(only_houses[col]>= only_houses[col].quantile(q=0.75)+ (margin)*(only_houses[col].quantile(q=0.75)-only_houses[col].quantile(q=0.25)))\\\n",
        "                                        | (only_houses[col]<= only_houses[col].quantile(q=0.25)- (margin)*(only_houses[col].quantile(q=0.75)-only_houses[col].quantile(q=0.25)))].index, inplace = True)\n",
        "    return data\n",
        "    \n",
        "def remove_all_outliers(cols, margin):\n",
        "    for col in cols:\n",
        "      data = remove_outliers(col, margin)\n",
        "    return data"
      ]
    },
    {
      "cell_type": "code",
      "execution_count": null,
      "metadata": {
        "id": "Vy0l0mfkpgSt"
      },
      "outputs": [],
      "source": [
        "remove_all_outliers([\"beds\", \"baths\", \"area\", \"unformattedPrice\"], 1.5)"
      ]
    },
    {
      "cell_type": "code",
      "execution_count": null,
      "metadata": {
        "id": "BJTtylZiUA3P"
      },
      "outputs": [],
      "source": [
        "only_houses"
      ]
    },
    {
      "cell_type": "code",
      "execution_count": null,
      "metadata": {
        "id": "7-PZ9a0mUB7o"
      },
      "outputs": [],
      "source": [
        "only_houses = pd.concat([only_houses, only_houses['latLong'].str.split(',', expand=True)], axis=1)\n",
        "only_houses = only_houses.rename(columns={0: \"lat\"})\n",
        "only_houses = only_houses.rename(columns={1: \"long\"})"
      ]
    },
    {
      "cell_type": "code",
      "execution_count": null,
      "metadata": {
        "id": "9sYVMxHbl_Kt"
      },
      "outputs": [],
      "source": [
        "# separate longitude and lattitude\n",
        "\n",
        "only_houses['lat'] = pd.Series(only_houses['lat']).str.replace(\"{'latitude':\",\"\")\n",
        "##only_houses['lat'] = pd.Series(only_houses['lat']).str.replace(\"{}\",np.nan)\n",
        "only_houses['long'] = pd.Series(only_houses['long']).str.replace(\"'longitude':\",\"\")\n",
        "##only_houses['long'] = pd.Series(only_houses['long']).str.replace(\"{}\",np.nan)\n",
        "only_houses['long'] = pd.Series(only_houses['long']).str.replace(\"}\",\"\")\n"
      ]
    },
    {
      "cell_type": "code",
      "execution_count": null,
      "metadata": {
        "id": "Uvxgp1RtVcE4"
      },
      "outputs": [],
      "source": [
        "only_houses[only_houses['latLong']=='{}']"
      ]
    },
    {
      "cell_type": "code",
      "execution_count": null,
      "metadata": {
        "id": "H98YEpesh4uf"
      },
      "outputs": [],
      "source": [
        "only_houses.info()"
      ]
    },
    {
      "cell_type": "code",
      "execution_count": null,
      "metadata": {
        "id": "2xcWeaCbekOj"
      },
      "outputs": [],
      "source": [
        "# select only Californoa houses\n",
        "only_houses = only_houses[only_houses['addressState'] == \"CA\"]"
      ]
    },
    {
      "cell_type": "code",
      "execution_count": null,
      "metadata": {
        "id": "feDxkrcMeW71"
      },
      "outputs": [],
      "source": [
        "noLatLong = only_houses[only_houses['latLong']=='{}'].index\n",
        "only_houses.drop(noLatLong , inplace=True)"
      ]
    },
    {
      "cell_type": "code",
      "execution_count": null,
      "metadata": {
        "id": "afHkI0aVenJt"
      },
      "outputs": [],
      "source": [
        "only_houses.shape"
      ]
    },
    {
      "cell_type": "code",
      "execution_count": null,
      "metadata": {
        "id": "kjV4WaquwcoX"
      },
      "outputs": [],
      "source": [
        "clean_houses = only_houses"
      ]
    },
    {
      "cell_type": "code",
      "execution_count": null,
      "metadata": {
        "id": "fVdWJlIu0Sug"
      },
      "outputs": [],
      "source": [
        "clean_houses.hist(bins=100, figsize=(15, 15), grid=False , color='tab:blue')"
      ]
    },
    {
      "cell_type": "code",
      "execution_count": null,
      "metadata": {
        "id": "xzsPpER309vN"
      },
      "outputs": [],
      "source": [
        "sgapt= clean_houses.groupby(['statusText'])['unformattedPrice'].mean().sort_values(ascending=False)\n",
        "sgapt.plot.bar(x=\"statusText\", y=\"unformattedPrice\", title=\"Average price per type of estate\",figsize=(12, 8),color='tab:blue');"
      ]
    },
    {
      "cell_type": "code",
      "execution_count": null,
      "metadata": {
        "id": "ZKV_f6F5UkI7"
      },
      "outputs": [],
      "source": [
        "sgapt= clean_houses.groupby(['beds'])['unformattedPrice'].mean().sort_values(ascending=False)\n",
        "sgapt.plot.bar(x=\"beds\", y=\"unformattedPrice\", title=\"Average price per number of beds\",figsize=(12, 8),color='tab:blue');"
      ]
    },
    {
      "cell_type": "code",
      "execution_count": null,
      "metadata": {
        "id": "fBafgRDLUkLR"
      },
      "outputs": [],
      "source": [
        "sgapt= clean_houses.groupby(['baths'])['unformattedPrice'].mean().sort_values(ascending=False)\n",
        "sgapt.plot.bar(x=\"baths\", y=\"unformattedPrice\", title=\"Average price per type of listing\",figsize=(12, 8),color='tab:blue');"
      ]
    },
    {
      "cell_type": "code",
      "execution_count": null,
      "metadata": {
        "id": "LWJJkcYCUkRg"
      },
      "outputs": [],
      "source": [
        "plt.figure(figsize=(12,10))\n",
        "cor = clean_houses.corr()\n",
        "sns.heatmap(cor, annot=True, cmap=plt.cm.Reds)\n",
        "plt.show()"
      ]
    },
    {
      "cell_type": "code",
      "execution_count": null,
      "metadata": {
        "id": "FhH5zHMyObYs"
      },
      "outputs": [],
      "source": [
        "#Chosen variables\n",
        "clean_houses = clean_houses[['addressCity','addressZipcode','lat','long','beds','baths','area','unformattedPrice']]"
      ]
    },
    {
      "cell_type": "code",
      "execution_count": null,
      "metadata": {
        "id": "4G9ZlvZeQNpz"
      },
      "outputs": [],
      "source": [
        "clean_houses = clean_houses.rename(columns={\"addressCity\": \"City\"})\n",
        "clean_houses = clean_houses.rename(columns={\"addressZipcode\": \"zipcode\"})\n",
        "clean_houses = clean_houses.rename(columns={\"unformattedPrice\": \"price\"})"
      ]
    },
    {
      "cell_type": "code",
      "execution_count": null,
      "metadata": {
        "id": "GnRlR6-wfPmi"
      },
      "outputs": [],
      "source": [
        "clean_houses['lat'] = clean_houses['lat'].astype('float64')\n",
        "clean_houses['long'] = clean_houses['long'].astype('float64')"
      ]
    },
    {
      "cell_type": "code",
      "execution_count": null,
      "metadata": {
        "id": "jCTNA4Ryft6u"
      },
      "outputs": [],
      "source": [
        "clean_houses.dtypes"
      ]
    },
    {
      "cell_type": "code",
      "execution_count": null,
      "metadata": {
        "id": "dctSjHsHhfj5"
      },
      "outputs": [],
      "source": [
        "clean_houses.shape"
      ]
    },
    {
      "cell_type": "code",
      "execution_count": null,
      "metadata": {
        "id": "TZxITWrzvV8J"
      },
      "outputs": [],
      "source": [
        "clean_houses.to_csv('houses_clean.csv', index=False)\n",
        "!cp houses_clean.csv \"/content/gdrive/Shareddrives/Data 270/Datasets/houses_files\""
      ]
    },
    {
      "cell_type": "markdown",
      "metadata": {
        "id": "Midm86pjiIcB"
      },
      "source": [
        "### Schools Dataset"
      ]
    },
    {
      "cell_type": "code",
      "execution_count": null,
      "metadata": {
        "id": "LZR8to8OJWSg"
      },
      "outputs": [],
      "source": [
        "#load the required libraries\n",
        "import pandas as pd\n",
        "import seaborn as sns\n",
        "import numpy as np\n",
        "import matplotlib.pyplot as plt"
      ]
    },
    {
      "cell_type": "code",
      "execution_count": null,
      "metadata": {
        "id": "P_OoB289JnSJ"
      },
      "outputs": [],
      "source": [
        "#load the data\n",
        "school = pd.read_csv(\"/content/gdrive/Shareddrives/Data 270/Datasets/schools_files/schools_raw.csv\")"
      ]
    },
    {
      "cell_type": "code",
      "execution_count": null,
      "metadata": {
        "id": "yU0FvxT6Jywn"
      },
      "outputs": [],
      "source": [
        "school.head()"
      ]
    },
    {
      "cell_type": "code",
      "execution_count": null,
      "metadata": {
        "id": "hkO89hzoJ2sv"
      },
      "outputs": [],
      "source": [
        "#basic information about the data\n",
        "school.info()"
      ]
    },
    {
      "cell_type": "code",
      "execution_count": null,
      "metadata": {
        "id": "4WRd6O3sPASk"
      },
      "outputs": [],
      "source": [
        "#Finding null values\n",
        "school.isnull().sum()"
      ]
    },
    {
      "cell_type": "code",
      "execution_count": null,
      "metadata": {
        "id": "x-b7suwShZaz"
      },
      "outputs": [],
      "source": [
        "#From the above table we see that testscorerating for ethnicity, percentlowincome, address.street2, pinned and assigned columns have null for almost all the rows. SInce they are not that significant for our study, we will be dropping those columns.\n",
        "school = school.drop(columns=['assigned','pinned','testScoreRatingForEthnicity','address.street2']) "
      ]
    },
    {
      "cell_type": "code",
      "execution_count": null,
      "metadata": {
        "id": "xNQLYtmYx4LP"
      },
      "outputs": [],
      "source": [
        "school['type'].unique()"
      ]
    },
    {
      "cell_type": "code",
      "execution_count": null,
      "metadata": {
        "id": "MNNPG9DJy0Ws"
      },
      "outputs": [],
      "source": [
        "#As the above column mentions just the type of the institute and check if it's just a school or not. \n",
        "#And since we collected only the schools information which the above comman confirms the same. We will be dropping the 'type' column."
      ]
    },
    {
      "cell_type": "code",
      "execution_count": null,
      "metadata": {
        "id": "FyjInK9X0f4H"
      },
      "outputs": [],
      "source": [
        "school[\"highlighted\"].unique()\n",
        "#we will be dropping highlight column since it just has 'false' as the bool value."
      ]
    },
    {
      "cell_type": "code",
      "execution_count": null,
      "metadata": {
        "id": "cnf05d3m0q9G"
      },
      "outputs": [],
      "source": [
        "school = school.drop(columns=['type','highlighted'])"
      ]
    },
    {
      "cell_type": "code",
      "execution_count": null,
      "metadata": {
        "id": "jDMyJJbpMu9X"
      },
      "outputs": [],
      "source": [
        "# we are dropping collegeEnrollmentData.school_value and state_average because they have lot of NULL values.\n",
        "school = school.drop(columns=['collegeEnrollmentData.school_value','collegeEnrollmentData.state_average'])\n",
        "school[[\"links.profile\",\"links.reviews\",\"links.collegeSuccess\"]]"
      ]
    },
    {
      "cell_type": "code",
      "execution_count": null,
      "metadata": {
        "id": "ZNxdoYRX16wh"
      },
      "outputs": [],
      "source": [
        "#dropping all the columns with links for profile reviews and college succesees because it isn't required for our problem statement.\n",
        "school = school.drop(columns=['links.profile','links.reviews','links.collegeSuccess'])"
      ]
    },
    {
      "cell_type": "code",
      "execution_count": null,
      "metadata": {
        "id": "7AREUTBBMPh5"
      },
      "outputs": [],
      "source": [
        "#to check for unique values in particular columns\n",
        "school['state'].unique()  "
      ]
    },
    {
      "cell_type": "markdown",
      "metadata": {
        "id": "NSdTeyKV2zKa"
      },
      "source": [
        "From the above code, we get to know that all the rows are taken from the state 'CA'. Since it is known now, we can eliminate this column."
      ]
    },
    {
      "cell_type": "code",
      "execution_count": null,
      "metadata": {
        "id": "S2xov4xz2uNx"
      },
      "outputs": [],
      "source": [
        "school = school.drop(columns=['state'])"
      ]
    },
    {
      "cell_type": "code",
      "execution_count": null,
      "metadata": {
        "id": "agJjfzebSmm4"
      },
      "outputs": [],
      "source": [
        "#checking for redundent columns\n",
        "school[[\"address.zip\",\"zipcode\"]]"
      ]
    },
    {
      "cell_type": "code",
      "execution_count": null,
      "metadata": {
        "id": "7a9tBVQEIS3A"
      },
      "outputs": [],
      "source": [
        "school['address.zip'].equals(school['zipcode'])"
      ]
    },
    {
      "cell_type": "markdown",
      "metadata": {
        "id": "W-Y5e46W5FPG"
      },
      "source": [
        "From the above commands, we see that both the columns are equal, hence we remove one of the redundant columns."
      ]
    },
    {
      "cell_type": "code",
      "execution_count": null,
      "metadata": {
        "id": "UBaXVB22U4o-"
      },
      "outputs": [],
      "source": [
        "#dropping redundent columns\n",
        "school = school.drop(columns=['address.zip'])"
      ]
    },
    {
      "cell_type": "code",
      "source": [
        "school.info()"
      ],
      "metadata": {
        "id": "7h-XzpKCDjLP"
      },
      "execution_count": null,
      "outputs": []
    },
    {
      "cell_type": "code",
      "execution_count": null,
      "metadata": {
        "id": "XmntAlI2N3fo"
      },
      "outputs": [],
      "source": [
        "school['ethnicityInfo'].unique()\n",
        "# we don't want to use enthinicity info for our analysis. Which is why we are dropping this column.\n",
        "school = school.drop(columns=['ethnicityInfo'])"
      ]
    },
    {
      "cell_type": "code",
      "execution_count": null,
      "metadata": {
        "id": "giytdIWdexur"
      },
      "outputs": [],
      "source": [
        "school['Unnamed: 0'].unique()\n",
        "# We are dropping this column because it has no information.\n",
        "school = school.drop(columns=['Unnamed: 0'])"
      ]
    },
    {
      "cell_type": "code",
      "execution_count": null,
      "metadata": {
        "id": "iOnLK1h1FUDC"
      },
      "outputs": [],
      "source": [
        "school = school.drop(columns=['lat','lon'])\n",
        "#since we have address, city and zipcode to locate the school, lat and long is not necessary for our study."
      ]
    },
    {
      "cell_type": "code",
      "execution_count": null,
      "metadata": {
        "id": "mmtV-GS7sG-5"
      },
      "outputs": [],
      "source": [
        "school = school.drop(columns=['csaAwardYears', 'csaGoldAwardYears', 'percentLowIncome'])"
      ]
    },
    {
      "cell_type": "code",
      "execution_count": null,
      "metadata": {
        "id": "mVSQXt05N7LP"
      },
      "outputs": [],
      "source": [
        "school['subratings.College Readiness Rating'].unique()\n",
        "# We are retaining this column because it is used to compute the actual school rating."
      ]
    },
    {
      "cell_type": "code",
      "execution_count": null,
      "metadata": {
        "id": "eOWG3HDyMerN"
      },
      "outputs": [],
      "source": [
        "school['schoolType'].unique()"
      ]
    },
    {
      "cell_type": "code",
      "execution_count": null,
      "metadata": {
        "id": "94JKLJakOA8v"
      },
      "outputs": [],
      "source": [
        "#Plot the unique values\n",
        "sns.countplot(school['schoolType'])\n",
        "plt.xlabel('Type of School')\n",
        "plt.ylabel('Count Breakdown')\n"
      ]
    },
    {
      "cell_type": "code",
      "execution_count": null,
      "metadata": {
        "id": "gHx7F6crVbjs"
      },
      "outputs": [],
      "source": [
        "#renaming columns for standardization\n",
        "school = school.rename(columns={\"name\": \"School Name\", \"rating\": \"School Rating\"})\n",
        "school.info()"
      ]
    },
    {
      "cell_type": "code",
      "execution_count": null,
      "metadata": {
        "id": "PPkdmQfllnnG"
      },
      "outputs": [],
      "source": [
        "school['reviewString'].unique()"
      ]
    },
    {
      "cell_type": "code",
      "execution_count": null,
      "metadata": {
        "id": "wC1YKhlal3sH"
      },
      "outputs": [],
      "source": [
        "# We are dropping the reviewString, districtId and score column since it has no useful information.\n",
        "school = school.drop(columns=['reviewString', 'score', 'districtId'])"
      ]
    },
    {
      "cell_type": "code",
      "execution_count": null,
      "metadata": {
        "id": "HZZN40DjWN9L"
      },
      "outputs": [],
      "source": [
        "school.describe()\n",
        "#checking for outliers"
      ]
    },
    {
      "cell_type": "markdown",
      "metadata": {
        "id": "-cC2wgEDYXOr"
      },
      "source": [
        "Based on the statitical information presented above, we can see that the columns Enrollment, NumReviews and StudentsPerTeacher have outliers.\n",
        "\n",
        "For example,\n",
        "In Enrollment, the mean valie is 554.49 and standard deviation is 588.52.\n",
        "Even if we assume 3 standard deviations as the threshold for detecting outliers, the Max value of this column is 6324, which is very much higher than the threshold for outliers.\n",
        "\n",
        "Similary, we can analyze the statistics for the columns NumReviews and StudentPerTeacher and figure out that they too have outliers."
      ]
    },
    {
      "cell_type": "code",
      "execution_count": null,
      "metadata": {
        "id": "-054zJgu4BBx"
      },
      "outputs": [],
      "source": [
        "#checking for duplicates\n",
        "school.duplicated()"
      ]
    },
    {
      "cell_type": "code",
      "execution_count": null,
      "metadata": {
        "id": "nkqOwQeV4Gx8"
      },
      "outputs": [],
      "source": [
        "school=school.drop_duplicates()\n"
      ]
    },
    {
      "cell_type": "code",
      "execution_count": null,
      "metadata": {
        "id": "KdLosXbOpU0x"
      },
      "outputs": [],
      "source": [
        "#finding outliers\n",
        "def find_thresholds (data):   \n",
        "    table=pd.DataFrame(columns = data.select_dtypes(include=['int64','float64']).columns, index = [\"Q1\", \"Q3\",\"IQR\", 'min', \"max\", \"lower threshold\", \"upper threshold\"])\n",
        "    for col in data.select_dtypes(include=['int64','float64']).columns :\n",
        "        Q1 = data[col].quantile(q=0.25)\n",
        "        Q3 = data[col].quantile(q=0.75)\n",
        "        IQR = Q3-Q1\n",
        "        table.loc[\"Q1\"][col] = Q1\n",
        "        table.loc[\"Q3\"][col] = Q3\n",
        "        table.loc[\"IQR\"][col] = IQR\n",
        "        table.loc['min'][col]= data[col].min()\n",
        "        table.loc[\"max\"][col]= data[col].max()\n",
        "        table.loc[\"lower threshold\"][col]= Q1-(1.5)*IQR\n",
        "        table.loc[\"upper threshold\"][col]= Q3+(1.5)*IQR\n",
        "    return table"
      ]
    },
    {
      "cell_type": "code",
      "execution_count": null,
      "metadata": {
        "id": "lvIIfRF1pdZB"
      },
      "outputs": [],
      "source": [
        "find_thresholds(school)"
      ]
    },
    {
      "cell_type": "code",
      "execution_count": null,
      "metadata": {
        "id": "XFpAVsXwp8w5"
      },
      "outputs": [],
      "source": [
        "# Number of outliers based on threshold determined in the previous section.\n",
        "school.loc[(school['enrollment'] >= 1687.5)]\n",
        "school.loc[(school['numReviews'] >= 26)]\n",
        "school.loc[(school['studentsPerTeacher'] >= 30)]\n",
        "school.loc[(school['zipcode'] < 88251.5)]\n",
        "# Analyzed the total number of outliers in all the 3 columns and decided to drop the outliers +of numReviews and studentsPerTeacher columns."
      ]
    },
    {
      "cell_type": "code",
      "execution_count": null,
      "metadata": {
        "id": "uzzDSDfUGY3M"
      },
      "outputs": [],
      "source": [
        "# Histogram plot before removing the outleirs.\n",
        "school.hist(bins=90, figsize=(15, 15), grid=False , color='tab:blue')"
      ]
    },
    {
      "cell_type": "code",
      "execution_count": null,
      "metadata": {
        "id": "am86QUGdsWvR"
      },
      "outputs": [],
      "source": [
        "indexToDrop = school[ (school['numReviews'] > 26)].index\n",
        "school.drop(indexToDrop , inplace=True)\n",
        "indexToDrop2 = school[ (school['studentsPerTeacher'] > 30)].index\n",
        "school.drop(indexToDrop2 , inplace=True)\n",
        "indexToDrop3 = school[ (school['enrollment'] > 1687.5)].index\n",
        "school.drop(indexToDrop3 , inplace=True)\n",
        "indexToDrop4 = school[ (school['zipcode'] < 88251.5)].index\n",
        "school.drop(indexToDrop4 , inplace=True)\n",
        "#when rating is 0 district city rows are null check and treat that\n",
        "indexToDrop5= school[school['School Rating'].isnull()].index\n",
        "school.drop(indexToDrop5 , inplace=True)"
      ]
    },
    {
      "cell_type": "code",
      "execution_count": null,
      "metadata": {
        "id": "89Lb3pFyxXeY"
      },
      "outputs": [],
      "source": [
        "# Histogram plot after removing the outliers. Note the distributions for the columns numReviews, enrollment, studentsPerTeacher.\n",
        "school.hist(bins=90, figsize=(15, 15), grid=False , color='tab:blue')"
      ]
    },
    {
      "cell_type": "code",
      "execution_count": null,
      "metadata": {
        "id": "CfaqKiU5xXeY"
      },
      "outputs": [],
      "source": [
        "#create histogram\n",
        "import plotly.express as px\n",
        "ratings_hist = px.histogram(school,x='School Rating')\n",
        "ratings_hist.update_layout(bargap=0.2)\n",
        "\n",
        "ratings_hist.show()"
      ]
    },
    {
      "cell_type": "markdown",
      "metadata": {
        "id": "NeQo0zufJla3"
      },
      "source": [
        "We can observe that among the retained rows, the rating 6 is the mode and the distribution looks like normal distribution."
      ]
    },
    {
      "cell_type": "code",
      "execution_count": null,
      "metadata": {
        "id": "-zIQfx47Gun-"
      },
      "outputs": [],
      "source": [
        "import matplotlib.pyplot as plt\n",
        "\n",
        "plt.figure(figsize=(12,10))\n",
        "cor = school.corr()\n",
        "sns.heatmap(cor, annot=True, cmap=plt.cm.Reds)\n",
        "plt.xticks(rotation=90)\n",
        "plt.show()\n"
      ]
    },
    {
      "cell_type": "markdown",
      "metadata": {
        "id": "9lwiYcc7nyH3"
      },
      "source": [
        "From the above figure, we can observe that \n",
        "\n",
        "\n",
        "*  school ratings has a weak correlation of 0.22 with studentsPerTeacher. This demonstrates that the number of students assigned to a teacher does not affect the school rating in any significant way.\n",
        "*  Similarly, parent rating also isn't corellated with the school ratings. This tells that parent rating is not a good parameter to judge the school's performance. This is because not all parents provide the ratings for a given school.\n",
        "*   We can also observe that Test scores subratings has high correlation with Academic progress, equity overview and college readiness ratings. Which suggests that if a school has high test scores, then automatically it will be good in other aspects as well.\n"
      ]
    },
    {
      "cell_type": "code",
      "execution_count": null,
      "metadata": {
        "id": "ef74EuuYBqK1"
      },
      "outputs": [],
      "source": [
        "school.head()"
      ]
    },
    {
      "cell_type": "code",
      "execution_count": null,
      "metadata": {
        "id": "7D9dVuS06i1Z"
      },
      "outputs": [],
      "source": [
        "schools_final_df =school[['id','districtName','districtCity','levelCode','School Name','gradeLevels','School Rating','ratingScale','schoolType','zipcode','enrollment','studentsPerTeacher','address.street1','address.city']]\n",
        "schools_final_df"
      ]
    },
    {
      "cell_type": "code",
      "execution_count": null,
      "metadata": {
        "id": "YUmI1b656wKo",
        "colab": {
          "base_uri": "https://localhost:8080/"
        },
        "outputId": "4196683c-3b2a-4f98-f805-976bf98e505a"
      },
      "outputs": [
        {
          "output_type": "stream",
          "name": "stderr",
          "text": [
            "<ipython-input-104-f88d228c8c23>:1: SettingWithCopyWarning:\n",
            "\n",
            "\n",
            "A value is trying to be set on a copy of a slice from a DataFrame.\n",
            "Try using .loc[row_indexer,col_indexer] = value instead\n",
            "\n",
            "See the caveats in the documentation: https://pandas.pydata.org/pandas-docs/stable/user_guide/indexing.html#returning-a-view-versus-a-copy\n",
            "\n"
          ]
        }
      ],
      "source": [
        "schools_final_df['levelCodeList'] = schools_final_df.apply(lambda row : row['levelCode'].split(','), axis=1)"
      ]
    },
    {
      "cell_type": "code",
      "execution_count": null,
      "metadata": {
        "id": "Ykpd70YOAGFF"
      },
      "outputs": [],
      "source": [
        "schools_final_df = schools_final_df.explode('levelCodeList')"
      ]
    },
    {
      "cell_type": "code",
      "source": [
        "schools_final_df =school[['id','districtName','districtCity','levelCode'"
      ],
      "metadata": {
        "id": "_KVmkY7GEwCF"
      },
      "execution_count": null,
      "outputs": []
    },
    {
      "cell_type": "code",
      "execution_count": null,
      "metadata": {
        "id": "vqOx90Tk5gl3"
      },
      "outputs": [],
      "source": [
        "schools_final_df.info()"
      ]
    },
    {
      "cell_type": "code",
      "execution_count": null,
      "metadata": {
        "id": "qKwnatqMAvBq"
      },
      "outputs": [],
      "source": [
        "schools_final_df['levelCodeList']"
      ]
    },
    {
      "cell_type": "code",
      "execution_count": null,
      "metadata": {
        "id": "6mQWJTjkEilX"
      },
      "outputs": [],
      "source": [
        "schools_final_df = schools_final_df.drop(columns=['levelCode'])"
      ]
    },
    {
      "cell_type": "code",
      "execution_count": null,
      "metadata": {
        "id": "Y6ppVxXxEz29"
      },
      "outputs": [],
      "source": [
        "schools_final_df = schools_final_df.rename(columns={\"levelCodeList\": \"levelCode\"})"
      ]
    },
    {
      "cell_type": "code",
      "source": [
        "#schools_final_df =school[['id','districtName','districtCity','levelCode']]\n",
        "schools_final_df[['id','districtName','districtCity','levelCode']]"
      ],
      "metadata": {
        "id": "ivQeOa5nEpJV"
      },
      "execution_count": null,
      "outputs": []
    },
    {
      "cell_type": "code",
      "execution_count": null,
      "metadata": {
        "id": "HzPSPCbY5o9_"
      },
      "outputs": [],
      "source": [
        "schools_final_df.to_csv('schools_clean.csv',index=False)\n",
        "!cp schools_clean.csv \"/content/gdrive/Shareddrives/Data 270/Datasets/schools_files\""
      ]
    },
    {
      "cell_type": "markdown",
      "metadata": {
        "id": "cbdgvrLV6YOG"
      },
      "source": [
        "### GDP Dataset\n"
      ]
    },
    {
      "cell_type": "code",
      "execution_count": null,
      "metadata": {
        "id": "MyXf3VbB6a9C"
      },
      "outputs": [],
      "source": [
        "df_gdp= pd.read_csv(\"/content/gdrive/Shareddrives/Data 270/Datasets/gdp_files/gdp_raw.csv\")\n",
        "df_gdp.info()\n"
      ]
    },
    {
      "cell_type": "code",
      "execution_count": null,
      "metadata": {
        "id": "0cHClimU82EA"
      },
      "outputs": [],
      "source": [
        "df_gdp.shape"
      ]
    },
    {
      "cell_type": "code",
      "execution_count": null,
      "metadata": {
        "id": "HlMNZ4gn7uOQ"
      },
      "outputs": [],
      "source": [
        "df_gdp.head(50)"
      ]
    },
    {
      "cell_type": "code",
      "execution_count": null,
      "metadata": {
        "id": "0nreR8c46kIZ"
      },
      "outputs": [],
      "source": [
        "df_new=df_gdp.drop(['Unnamed: 5','Percent change from preceding period'], axis=1)\n",
        "df_new.to_csv(\"/content/gdrive/Shareddrives/Data 270/Datasets/gdp_files/gdp_test1.csv\")\n",
        "df_new.head(70)"
      ]
    },
    {
      "cell_type": "code",
      "execution_count": null,
      "metadata": {
        "id": "tFo3bDIy8Vuv"
      },
      "outputs": [],
      "source": [
        "df_new.isnull().sum().sort_values(ascending = False)"
      ]
    },
    {
      "cell_type": "code",
      "execution_count": null,
      "metadata": {
        "id": "a4Z9D6q0a9K7"
      },
      "outputs": [],
      "source": [
        "file = '/content/gdrive/Shareddrives/Data 270/Datasets/gdp_files/gdp_test2.xlsx'\n",
        "xl = pd.read_excel(file, sheet_name=None)  \n",
        "    "
      ]
    },
    {
      "cell_type": "code",
      "source": [
        "df_sheet1=xl.get(list(xl.keys())[0])\n",
        "df_sheet1"
      ],
      "metadata": {
        "id": "48APA0e2vJ8p"
      },
      "execution_count": null,
      "outputs": []
    },
    {
      "cell_type": "code",
      "execution_count": null,
      "metadata": {
        "id": "KvWPvR84k4vC"
      },
      "outputs": [],
      "source": [
        "\n",
        "# Split real gross domestic product in to two columns\n",
        "df_sheet1[['gdp_2018', 'gdp_2019']] = df_sheet1[\"Real gross domestic product\"].apply(lambda x: pd.Series(str(x).split(\" \")))\n",
        "df_sheet1.head(5)"
      ]
    },
    {
      "cell_type": "code",
      "execution_count": null,
      "metadata": {
        "id": "BgmF9YO97ZAj"
      },
      "outputs": [],
      "source": [
        "#Drop unneccasary column\n",
        "df_sheet1=df_sheet1.drop([\"Real gross domestic product\"],axis=1)\n",
        "# rename column\n",
        "df_sheet1.rename({'Unnamed: 3':'gdp_2020'},axis=1 , inplace=True)\n",
        "df_sheet1.head(20)"
      ]
    },
    {
      "cell_type": "code",
      "execution_count": null,
      "metadata": {
        "id": "pDQq9pAlZTaS"
      },
      "outputs": [],
      "source": [
        "#Rearrange columns for merging purpose\n",
        "df_sheet1=df_sheet1[['State','County','gdp_2017','gdp_2018','gdp_2019','gdp_2020','Rankinstate']]\n",
        "df_sheet1.head(5)\n",
        "df_sheet1.info()"
      ]
    },
    {
      "cell_type": "code",
      "execution_count": null,
      "metadata": {
        "id": "1HmhnW7-_beT"
      },
      "outputs": [],
      "source": [
        "df_sheet1[\"gdp_2019\"] = df_sheet1[\"gdp_2019\"].str.replace(\",\",\"\").astype(float)"
      ]
    },
    {
      "cell_type": "code",
      "execution_count": null,
      "metadata": {
        "id": "cUyoDDuol2S5"
      },
      "outputs": [],
      "source": [
        "df_sheet1[\"gdp_2018\"] = df_sheet1[\"gdp_2018\"].str.replace(\",\",\"\").astype(float)"
      ]
    },
    {
      "cell_type": "code",
      "execution_count": null,
      "metadata": {
        "id": "QX0e3cIEAFyJ"
      },
      "outputs": [],
      "source": [
        "df_sheet1.head(5)"
      ]
    },
    {
      "cell_type": "code",
      "execution_count": null,
      "metadata": {
        "id": "0H5CjOp-ASjo"
      },
      "outputs": [],
      "source": [
        "df_sheet1.info()"
      ]
    },
    {
      "cell_type": "code",
      "source": [
        "df_sheet2=xl.get(list(xl.keys())[1])\n",
        "df_sheet2\n"
      ],
      "metadata": {
        "id": "R-Fl3qWdvYog"
      },
      "execution_count": null,
      "outputs": []
    },
    {
      "cell_type": "code",
      "execution_count": null,
      "metadata": {
        "id": "T3PS_z5Ss0oP"
      },
      "outputs": [],
      "source": [
        "\n",
        "df_sheet2[['gdp_2018', 'gdp_2019','gdp_2020']] = df_sheet2[\"Real gross domestic product\"].apply(lambda x: pd.Series(str(x).split(\" \")))\n",
        "df_sheet2.head(20)"
      ]
    },
    {
      "cell_type": "code",
      "execution_count": null,
      "metadata": {
        "id": "mUtdYdSZ7qf3"
      },
      "outputs": [],
      "source": [
        "df_sheet2=df_sheet2.drop([\"Real gross domestic product\",\"Unnamed: 3\"],axis=1)\n",
        "df_sheet2.head(20)"
      ]
    },
    {
      "cell_type": "code",
      "execution_count": null,
      "metadata": {
        "id": "R95loq5dZn_7"
      },
      "outputs": [],
      "source": [
        "#Rearrange columns for merging purpose\n",
        "df_sheet2=df_sheet2[['State','County','gdp_2017','gdp_2018','gdp_2019','gdp_2020','Rankinstate']]\n",
        "df_sheet2.head(5)"
      ]
    },
    {
      "cell_type": "code",
      "execution_count": null,
      "metadata": {
        "id": "J4yR_rF-Afrg"
      },
      "outputs": [],
      "source": [
        "df_sheet2.info()"
      ]
    },
    {
      "cell_type": "code",
      "execution_count": null,
      "metadata": {
        "id": "158O6A0HA2J-"
      },
      "outputs": [],
      "source": [
        "df_sheet2[\"gdp_2018\"] = df_sheet2[\"gdp_2018\"].str.replace(\",\",\"\").astype(float)\n",
        "df_sheet2[\"gdp_2019\"] = df_sheet2[\"gdp_2019\"].str.replace(\",\",\"\").astype(float)\n",
        "df_sheet2[\"gdp_2020\"] = df_sheet2[\"gdp_2020\"].str.replace(\",\",\"\").astype(float)\n"
      ]
    },
    {
      "cell_type": "code",
      "execution_count": null,
      "metadata": {
        "id": "Aqq-2sX_BKTX"
      },
      "outputs": [],
      "source": [
        "df_sheet2.head(10)"
      ]
    },
    {
      "cell_type": "code",
      "execution_count": null,
      "metadata": {
        "id": "YhdeU2nEBWtQ"
      },
      "outputs": [],
      "source": [
        "df_sheet2.info()"
      ]
    },
    {
      "cell_type": "code",
      "execution_count": null,
      "metadata": {
        "id": "CSau3k95Z15A"
      },
      "outputs": [],
      "source": [
        "frames=[df_sheet1,df_sheet2]\n",
        "df_final_gdp= pd.concat(frames)"
      ]
    },
    {
      "cell_type": "code",
      "execution_count": null,
      "metadata": {
        "id": "Pt6t7opKZ6vB"
      },
      "outputs": [],
      "source": [
        "df_final_gdp"
      ]
    },
    {
      "cell_type": "code",
      "execution_count": null,
      "metadata": {
        "id": "ZL7CnzO-sXV5"
      },
      "outputs": [],
      "source": [
        "df_final_gdp.info()"
      ]
    },
    {
      "cell_type": "code",
      "execution_count": null,
      "metadata": {
        "id": "rVQnA4a1CZhs"
      },
      "outputs": [],
      "source": [
        "df_final_gdp[\"Rankinstate\"].replace(to_replace = '--', value = 0, inplace=True)"
      ]
    },
    {
      "cell_type": "code",
      "execution_count": null,
      "metadata": {
        "id": "fbagY8fAC1e3"
      },
      "outputs": [],
      "source": [
        "df_final_gdp.head(10)"
      ]
    },
    {
      "cell_type": "code",
      "execution_count": null,
      "metadata": {
        "id": "Ieo7FQeNldXO"
      },
      "outputs": [],
      "source": [
        "df_final_gdp.to_csv(\"/content/gdrive/Shareddrives/Data 270/Datasets/gdp_files/gdp1_clean.csv\",index=False)"
      ]
    },
    {
      "cell_type": "code",
      "execution_count": null,
      "metadata": {
        "id": "LX__0EaJGQv8"
      },
      "outputs": [],
      "source": [
        "df_final_gdp.hist(bins=30, figsize=(10, 10), grid=False , color='tab:blue')\n",
        "plt.show()"
      ]
    },
    {
      "cell_type": "code",
      "execution_count": null,
      "metadata": {
        "id": "kEd3blXphMr6"
      },
      "outputs": [],
      "source": [
        "df_final_gdp.boxplot(by ='State', column =['Rankinstate'],grid = False,figsize=(10,8))\n",
        "plt.xticks(rotation = 90); \n",
        "plt.show()\n",
        "#df_final_gdp.plot.box(title=\"GDP\")"
      ]
    },
    {
      "cell_type": "code",
      "execution_count": null,
      "metadata": {
        "id": "UPE34DpJvpu7"
      },
      "outputs": [],
      "source": [
        "gdp_percapita= pd.read_csv('/content/gdrive/Shareddrives/Data 270/Datasets/gdp_files/gdppercapita_raw.csv')"
      ]
    },
    {
      "cell_type": "code",
      "execution_count": null,
      "metadata": {
        "id": "lHPVVGsxv1a2"
      },
      "outputs": [],
      "source": [
        "gdp_percapita.info()"
      ]
    },
    {
      "cell_type": "code",
      "source": [
        "gdp_percapita.head(20)"
      ],
      "metadata": {
        "id": "Y6QhKj5qbAL6"
      },
      "execution_count": null,
      "outputs": []
    },
    {
      "cell_type": "code",
      "execution_count": null,
      "metadata": {
        "id": "veYrOvzYhQGe"
      },
      "outputs": [],
      "source": [
        "gdp_percapita.rename(\n",
        "    {'Population[1]':'Population',\n",
        "     'Population\\ndensity[1][2][note 1]':'Populationdensity',\n",
        "     'Per capita income[3]':'Per capita income',\n",
        "    'Median household income[6]':'Median household income',\n",
        "     'Median family income[5]':'Median family income'},axis=1 , inplace=True)"
      ]
    },
    {
      "cell_type": "code",
      "execution_count": null,
      "metadata": {
        "id": "aDI32ZHPhZ03"
      },
      "outputs": [],
      "source": [
        "gdp_percapita.head(20)"
      ]
    },
    {
      "cell_type": "code",
      "execution_count": null,
      "metadata": {
        "id": "2FkoJfSAhhbE"
      },
      "outputs": [],
      "source": [
        "gdp_percapita['Population']=gdp_percapita['Population'].str.replace(\",\",\"\").astype(float)\n",
        "gdp_percapita['Populationdensity']=gdp_percapita['Populationdensity'].str.replace(\",\",\"\").astype(float)"
      ]
    },
    {
      "cell_type": "code",
      "execution_count": null,
      "metadata": {
        "id": "7vu_FuYghoiD"
      },
      "outputs": [],
      "source": [
        "gdp_percapita['Per capita income']=gdp_percapita['Per capita income'].str.replace(\",\",\"\").str.replace(\"$\",\"\").astype(int)"
      ]
    },
    {
      "cell_type": "code",
      "execution_count": null,
      "metadata": {
        "id": "fTYWvpF1ho0T"
      },
      "outputs": [],
      "source": [
        "gdp_percapita['Median household income']=gdp_percapita['Median household income'].str.replace(\",\",\"\").str.replace(\"$\",\"\").astype(int)\n",
        "gdp_percapita['Median family income']=gdp_percapita['Median family income'].str.replace(\",\",\"\").str.replace(\"$\",\"\").astype(int)\n"
      ]
    },
    {
      "cell_type": "code",
      "execution_count": null,
      "metadata": {
        "id": "BCY6rPaziSvA"
      },
      "outputs": [],
      "source": [
        "GDP_CA=df_final_gdp[df_final_gdp['State']=='California']\n",
        "GDP_CA.info()"
      ]
    },
    {
      "cell_type": "code",
      "execution_count": null,
      "metadata": {
        "id": "sZtOjWXCidmo"
      },
      "outputs": [],
      "source": [
        "GDP_CA['State'].unique()\n",
        "GDP_CA.boxplot(by ='State', column =['gdp_2018'],grid = False,figsize=(10,8))\n",
        "#plt.xticks(rotation = 90); \n",
        "plt.show()"
      ]
    },
    {
      "cell_type": "code",
      "execution_count": null,
      "metadata": {
        "id": "otLtLNWPFLmq"
      },
      "outputs": [],
      "source": [
        "GDP_CA=GDP_CA.drop([\"gdp_2017\",\"gdp_2018\",\"gdp_2019\"], axis=1)"
      ]
    },
    {
      "cell_type": "code",
      "execution_count": null,
      "metadata": {
        "id": "Qg2UMQ6swmp7"
      },
      "outputs": [],
      "source": [
        "gdp_clean=pd.merge(gdp_percapita, GDP_CA, on='County')"
      ]
    },
    {
      "cell_type": "code",
      "execution_count": null,
      "metadata": {
        "id": "B0xm7OxrxKeI"
      },
      "outputs": [],
      "source": [
        "gdp_clean.to_csv(\"/content/gdrive/Shareddrives/Data 270/Datasets/gdp_files/gdp_clean.csv\", index = False)"
      ]
    },
    {
      "cell_type": "code",
      "execution_count": null,
      "metadata": {
        "id": "fdjbO3w5V8BL"
      },
      "outputs": [],
      "source": [
        "gdp_clean.head(10)"
      ]
    },
    {
      "cell_type": "code",
      "execution_count": null,
      "metadata": {
        "id": "fna67qO3iyi_"
      },
      "outputs": [],
      "source": [
        "plt.figure(figsize=(10,8))\n",
        "cor = gdp_clean.corr()\n",
        "sns.heatmap(cor, annot=True, cmap='coolwarm')\n",
        "plt.show()"
      ]
    },
    {
      "cell_type": "code",
      "execution_count": null,
      "metadata": {
        "id": "A-jFq4jlk4CO"
      },
      "outputs": [],
      "source": [
        "# Finding Threshholds from each numeric feature\n",
        "def find_thresholds (data):   \n",
        "    table=pd.DataFrame(columns = data.select_dtypes(include=['int64','float64']).columns, index = [\"Q1\", \"Q3\",\"IQR\", 'min', \"max\", \"lower treshold\", \"upper treshold\"])\n",
        "    for col in data.select_dtypes(include=['int64','float64']).columns :\n",
        "        Q1 = data[col].quantile(q=0.25)\n",
        "        Q3 = data[col].quantile(q=0.75)\n",
        "        IQR = Q3-Q1\n",
        "        table.loc[\"Q1\"][col] = Q1\n",
        "        table.loc[\"Q3\"][col] = Q3\n",
        "        table.loc[\"IQR\"][col] = IQR\n",
        "        table.loc['min'][col]= data[col].min()\n",
        "        table.loc[\"max\"][col]= data[col].max()\n",
        "        table.loc[\"lower treshold\"][col]= Q1-(1.5)*IQR\n",
        "        table.loc[\"upper treshold\"][col]= Q3+(1.5)*IQR\n",
        "    return table"
      ]
    },
    {
      "cell_type": "code",
      "execution_count": null,
      "metadata": {
        "id": "qHqiYr-4qzpw"
      },
      "outputs": [],
      "source": [
        "find_thresholds(gdp_clean)"
      ]
    },
    {
      "cell_type": "code",
      "execution_count": null,
      "metadata": {
        "id": "Cnd6KBufxmCN"
      },
      "outputs": [],
      "source": [
        "gdp_clean.boxplot(by ='State', column =['Per capita income'],grid = False,figsize=(10,8))\n",
        "#plt.xticks(rotation = 90); \n",
        "plt.show()"
      ]
    },
    {
      "cell_type": "code",
      "execution_count": null,
      "metadata": {
        "id": "ixWPo9dPu6lJ"
      },
      "outputs": [],
      "source": [
        "gdp_clean.hist(bins=30, figsize=(10, 10), grid=False , color='tab:blue')\n",
        "plt.show()"
      ]
    },
    {
      "cell_type": "markdown",
      "metadata": {
        "id": "VWUI6wGn6Jtm"
      },
      "source": [
        "### Crime:\n"
      ]
    },
    {
      "cell_type": "code",
      "execution_count": null,
      "metadata": {
        "id": "OFYeg2epRokp"
      },
      "outputs": [],
      "source": [
        "crimedata = pd.DataFrame(pd.read_excel(\"/content/gdrive/Shareddrives/Data 270/Datasets/crime_files/crime_raw.xlsx\"))"
      ]
    },
    {
      "cell_type": "code",
      "source": [
        "crimedata"
      ],
      "metadata": {
        "id": "b5QmYEpOitNI"
      },
      "execution_count": null,
      "outputs": []
    },
    {
      "cell_type": "code",
      "source": [
        "crimedata.info()"
      ],
      "metadata": {
        "id": "KwZ85htVkRK6"
      },
      "execution_count": null,
      "outputs": []
    },
    {
      "cell_type": "code",
      "execution_count": null,
      "metadata": {
        "id": "g4XCR-Q2j1H0"
      },
      "outputs": [],
      "source": [
        "#droping first 4 and last rows\n",
        "crimedata = crimedata.drop([0,1,2,461])\n",
        "crimedata"
      ]
    },
    {
      "cell_type": "code",
      "execution_count": null,
      "metadata": {
        "id": "6neuM8BUdWNl"
      },
      "outputs": [],
      "source": [
        "#making 1st row as header\n",
        "crimedata_final= crimedata.rename(columns=crimedata.iloc[0]).drop(crimedata.index[0])\n",
        "crimedata_final"
      ]
    },
    {
      "cell_type": "code",
      "execution_count": null,
      "metadata": {
        "id": "wAq9aByak0m_"
      },
      "outputs": [],
      "source": [
        "crimedata_final.reset_index(inplace=True, drop=True)"
      ]
    },
    {
      "cell_type": "code",
      "execution_count": null,
      "metadata": {
        "id": "PaDNu-qefK1Y"
      },
      "outputs": [],
      "source": [
        "crimedata_final.rename({'Rape1':'Rape','Violent\\ncrime': 'Violent_Crime', 'Murder and\\nnonnegligent\\nmanslaughter': 'Murder','Aggravated\\nassault':'Aggravated_assault','Larceny-\\ntheft':'Larceny_theft','Property\\ncrime':'Property_crime','Motor\\nvehicle\\ntheft':'Motor_vehicle_theft'}, axis=1, inplace=True)\n"
      ]
    },
    {
      "cell_type": "code",
      "execution_count": null,
      "metadata": {
        "id": "37YFwCwFk04_"
      },
      "outputs": [],
      "source": [
        "crimedata_final.head(5)"
      ]
    },
    {
      "cell_type": "code",
      "source": [
        "crimedata_final"
      ],
      "metadata": {
        "id": "lYJ0T7_MZKpS"
      },
      "execution_count": null,
      "outputs": []
    },
    {
      "cell_type": "code",
      "execution_count": null,
      "metadata": {
        "id": "YfC_OLXaIltM"
      },
      "outputs": [],
      "source": [
        "crimedata_final.describe()"
      ]
    },
    {
      "cell_type": "code",
      "execution_count": null,
      "metadata": {
        "id": "Gn1j3ZamC2dG"
      },
      "outputs": [],
      "source": [
        "beds = crimedata_final[\"Population\"]\n",
        "Price = crimedata_final[\"Robbery\"]\n",
        "plt.scatter(y=beds, x=Price)"
      ]
    },
    {
      "cell_type": "code",
      "execution_count": null,
      "metadata": {
        "id": "wGMVA-7kco5Y"
      },
      "outputs": [],
      "source": [
        "crimedata_final.plot.box(title=\"CRIME\", figsize=(12,12))"
      ]
    },
    {
      "cell_type": "code",
      "execution_count": null,
      "metadata": {
        "id": "-DTQXT58lpr1"
      },
      "outputs": [],
      "source": [
        "#Finding NUll values\n",
        "round(( crimedata_final.isna().sum()/len(crimedata_final) ) * 100).sort_values(ascending=False)"
      ]
    },
    {
      "cell_type": "code",
      "execution_count": null,
      "metadata": {
        "id": "xOrMFwfMk09n"
      },
      "outputs": [],
      "source": [
        "crimedata_final.info()"
      ]
    },
    {
      "cell_type": "code",
      "execution_count": null,
      "metadata": {
        "id": "80kUSnZr0Gyk"
      },
      "outputs": [],
      "source": [
        "#Removing coma from Population column\n",
        "crimedata_final['Population']=crimedata_final['Population'].astype(int)\n",
        "crimedata_final['Violent_Crime']=crimedata_final['Violent_Crime'].astype(int)\n",
        "crimedata_final['Aggravated_assault']=crimedata_final['Aggravated_assault'].astype(int)\n",
        "crimedata_final['Rape']=crimedata_final['Rape'].astype(int)\n",
        "crimedata_final['Larceny_theft']=crimedata_final['Larceny_theft'].astype(int)\n",
        "crimedata_final['Burglary']=crimedata_final['Burglary'].astype(int)\n",
        "crimedata_final['Arson']=crimedata_final['Arson'].astype(int)\n",
        "crimedata_final['Motor_vehicle_theft']=crimedata_final['Motor_vehicle_theft'].astype(int)\n",
        "crimedata_final['Property_crime']=crimedata_final['Property_crime'].astype(int)\n",
        "crimedata_final['Murder']=crimedata_final['Murder'].astype(int)\n",
        "crimedata_final['Robbery']=crimedata_final['Robbery'].astype(int)\n",
        "crimedata_final['Robbery']=crimedata_final['Robbery'].astype(int)\n",
        "\n",
        "\n",
        "\n",
        "\n"
      ]
    },
    {
      "cell_type": "code",
      "execution_count": null,
      "metadata": {
        "id": "8FVb_zFFmXu_"
      },
      "outputs": [],
      "source": [
        "crimedata_final.info()"
      ]
    },
    {
      "cell_type": "code",
      "execution_count": null,
      "metadata": {
        "id": "uN3aCPZR8jUV"
      },
      "outputs": [],
      "source": [
        "corr = crimedata_final.corr()\n",
        "\n",
        "corr.style.background_gradient(cmap='coolwarm')"
      ]
    },
    {
      "cell_type": "code",
      "execution_count": null,
      "metadata": {
        "id": "Hlb5aU9f8k1c"
      },
      "outputs": [],
      "source": [
        "plt.figure(figsize=(10,8))\n",
        "cor = crimedata_final.corr()\n",
        "sns.heatmap(cor, annot=True, cmap='coolwarm')\n",
        "plt.show()"
      ]
    },
    {
      "cell_type": "code",
      "execution_count": null,
      "metadata": {
        "id": "M1Q0vymYmXyE"
      },
      "outputs": [],
      "source": [
        "crimedata_final.hist(bins=100, figsize=(15,15), grid=False , color='tab:blue')\n"
      ]
    },
    {
      "cell_type": "code",
      "execution_count": null,
      "metadata": {
        "id": "gBRf4-Iy-K5e"
      },
      "outputs": [],
      "source": [
        "import seaborn as sns\n",
        "\n",
        "# use the function regplot to make a scatterplot\n",
        "sns.regplot(x=crimedata_final[\"Population\"], y=crimedata_final[\"Burglary\"])\n",
        "\n",
        "plt.savefig(\"Plotting_Correlation_Scatterplot_With_Regression_Fit.jpg\")"
      ]
    },
    {
      "cell_type": "code",
      "execution_count": null,
      "metadata": {
        "id": "ftx8q59bedtN"
      },
      "outputs": [],
      "source": [
        "# Finding Threshholds from each numeric feature\n",
        "def find_threshold(data):   \n",
        "    table=pd.DataFrame(columns = data.select_dtypes(include=['int64','float64']).columns, index = [\"Q1\", \"Q3\",\"IQR\", 'min', \"max\", \"lower treshold\", \"upper treshold\"])\n",
        "    for col in data.select_dtypes(include=['int64','float64']).columns :\n",
        "        Q1 = data[col].quantile(q=0.25)\n",
        "        Q3 = data[col].quantile(q=0.75)\n",
        "        IQR = Q3-Q1\n",
        "        table.loc[\"Q1\"][col] = Q1\n",
        "        table.loc[\"Q3\"][col] = Q3\n",
        "        table.loc[\"IQR\"][col] = IQR\n",
        "        table.loc['min'][col]= data[col].min()\n",
        "        table.loc[\"max\"][col]= data[col].max()\n",
        "        table.loc[\"lower treshold\"][col]= Q1-(1.5)*IQR\n",
        "        table.loc[\"upper treshold\"][col]= Q3+(1.5)*IQR\n",
        "    return table"
      ]
    },
    {
      "cell_type": "code",
      "execution_count": null,
      "metadata": {
        "id": "2w6KR7B5p7MY"
      },
      "outputs": [],
      "source": [
        "find_threshold(crimedata_final)"
      ]
    },
    {
      "cell_type": "code",
      "source": [
        "crimedata_final.info()"
      ],
      "metadata": {
        "id": "Mp2U8WvwZuIk"
      },
      "execution_count": null,
      "outputs": []
    },
    {
      "cell_type": "code",
      "execution_count": null,
      "metadata": {
        "id": "RS2F9J1mmX6o"
      },
      "outputs": [],
      "source": [
        "col_list= list(crimedata_final)\n",
        "col_list.remove('Population')\n",
        "crimedata_final['Total_crime'] = crimedata_final[col_list].sum(axis=1)"
      ]
    },
    {
      "cell_type": "code",
      "execution_count": null,
      "metadata": {
        "id": "BVuWBsxTkgfv"
      },
      "outputs": [],
      "source": [
        "crimedata_final['crime_per_1000']= (crimedata_final['Total_crime']*1000)/crimedata_final['Population']\n"
      ]
    },
    {
      "cell_type": "code",
      "source": [
        "crimedata_final = crimedata_final.drop(['Larceny_theft', 'Aggravated_assault', 'Arson', 'Motor_vehicle_theft', 'Violent_Crime' ,'Rape', 'Murder'],axis=1)"
      ],
      "metadata": {
        "id": "YjQAgR8u1m3s"
      },
      "execution_count": null,
      "outputs": []
    },
    {
      "cell_type": "code",
      "execution_count": null,
      "metadata": {
        "id": "fLxMC9LukgpT"
      },
      "outputs": [],
      "source": [
        "crimedata_final.info()"
      ]
    },
    {
      "cell_type": "code",
      "execution_count": null,
      "metadata": {
        "id": "RCGoAD-bikPI"
      },
      "outputs": [],
      "source": [
        "crimedata_final.to_csv('crime_clean.csv',index=False)\n",
        "!cp crime_clean.csv \"/content/gdrive/Shareddrives/Data 270/Datasets/crime_files\""
      ]
    },
    {
      "cell_type": "code",
      "execution_count": null,
      "metadata": {
        "id": "pNxpwjoDs0Nx"
      },
      "outputs": [],
      "source": [
        "#After adding the percentage value for crime\n",
        "find_threshold(crimedata_final)"
      ]
    },
    {
      "cell_type": "markdown",
      "metadata": {
        "id": "wKE7W8tyyG3q"
      },
      "source": [
        "## Merging Datasets"
      ]
    },
    {
      "cell_type": "markdown",
      "source": [
        "#### Load all clean datasets"
      ],
      "metadata": {
        "id": "N1Y0cjM20eb3"
      }
    },
    {
      "cell_type": "code",
      "execution_count": null,
      "metadata": {
        "id": "x7WRHMSTyPEk"
      },
      "outputs": [],
      "source": [
        "houses_clean = pd.read_csv('/content/gdrive/Shareddrives/Data 270/Datasets/houses_files/houses_clean.csv')\n",
        "houses_clean.shape"
      ]
    },
    {
      "cell_type": "code",
      "execution_count": null,
      "metadata": {
        "id": "W8N2l0PzyPOg"
      },
      "outputs": [],
      "source": [
        "schools_clean = pd.read_csv('/content/gdrive/Shareddrives/Data 270/Datasets/schools_files/schools_clean.csv')"
      ]
    },
    {
      "cell_type": "code",
      "source": [
        "schools_clean.info()"
      ],
      "metadata": {
        "id": "iIRy_5lBXP4T"
      },
      "execution_count": null,
      "outputs": []
    },
    {
      "cell_type": "code",
      "execution_count": null,
      "metadata": {
        "id": "ZqVGG1tKyPWu"
      },
      "outputs": [],
      "source": [
        "GDP_clean = pd.read_csv('/content/gdrive/Shareddrives/Data 270/Datasets/gdp_files/gdp_clean.csv')"
      ]
    },
    {
      "cell_type": "code",
      "source": [
        "GDP_clean.shape"
      ],
      "metadata": {
        "id": "4p7XYJT1yasi"
      },
      "execution_count": null,
      "outputs": []
    },
    {
      "cell_type": "code",
      "execution_count": null,
      "metadata": {
        "id": "lPd0cM5ZyPg0"
      },
      "outputs": [],
      "source": [
        "crimes_clean = pd.read_csv('/content/gdrive/Shareddrives/Data 270/Datasets/crime_files/crime_clean.csv')"
      ]
    },
    {
      "cell_type": "code",
      "source": [
        "crimes_clean.info()"
      ],
      "metadata": {
        "id": "oucK9ez8-IwC"
      },
      "execution_count": null,
      "outputs": []
    },
    {
      "cell_type": "markdown",
      "source": [
        "#### Data transformation for Schools dataset"
      ],
      "metadata": {
        "id": "UCE7UXzFziRq"
      }
    },
    {
      "cell_type": "code",
      "execution_count": null,
      "metadata": {
        "id": "6tol9KFcwylo"
      },
      "outputs": [],
      "source": [
        "for i, row in schools_clean.iterrows():\n",
        "  if row['levelCode'] == 'e':\n",
        "    schools_clean.loc[i,\"elem_rating\"] = row[\"School Rating\"]\n",
        "  elif row['levelCode'] == 'm':\n",
        "    schools_clean.loc[i,\"middle_rating\"] = row[\"School Rating\"]\n",
        "  elif row['levelCode'] == 'h':\n",
        "    schools_clean.loc[i,\"high_rating\"] = row[\"School Rating\"]\n",
        "    "
      ]
    },
    {
      "cell_type": "code",
      "execution_count": null,
      "metadata": {
        "id": "g7_wAOOvqk_V"
      },
      "outputs": [],
      "source": [
        "# Create a dataframe with all zipcode and the mean of rating per zipcode\n",
        "school_ratings=schools_clean.groupby(['districtCity','zipcode'],as_index=False).mean()[['districtCity','zipcode','elem_rating','middle_rating','high_rating']]"
      ]
    },
    {
      "cell_type": "code",
      "execution_count": null,
      "metadata": {
        "id": "QB_Uv_JHkYPd"
      },
      "outputs": [],
      "source": [
        "# fill up null rating with mean ratings per DistrictCity and type of school (e, m, or h)\n",
        "school_ratings[\"elem_rating\"] = school_ratings.groupby(['districtCity'])[\"elem_rating\"].apply(lambda x: x.fillna(round(x.mean(),2)))\n",
        "school_ratings[\"middle_rating\"] = school_ratings.groupby(['districtCity'])['middle_rating'].apply(lambda x: x.fillna(round(x.mean(),2)))\n",
        "school_ratings[\"high_rating\"] = school_ratings.groupby(['districtCity'])['high_rating'].apply(lambda x: x.fillna(round(x.mean(),2)))"
      ]
    },
    {
      "cell_type": "code",
      "execution_count": null,
      "metadata": {
        "id": "D90h4CUGhMA4"
      },
      "outputs": [],
      "source": [
        "# fill up null rating with mean ratings of schools in same zipcode i\n",
        "school_ratings[\"elem_rating\"] = school_ratings[\"elem_rating\"].fillna(round(school_ratings[[\"elem_rating\",'middle_rating',\"high_rating\"]].mean(axis=1), 2 ))\n",
        "school_ratings[\"middle_rating\"] = school_ratings[\"middle_rating\"].fillna(round(school_ratings[[\"elem_rating\",'middle_rating',\"high_rating\"]].mean(axis=1), 2 ))\n",
        "school_ratings[\"high_rating\"] = school_ratings[\"high_rating\"].fillna(round(school_ratings[[\"elem_rating\",'middle_rating',\"high_rating\"]].mean(axis=1), 2 ))\n"
      ]
    },
    {
      "cell_type": "code",
      "execution_count": null,
      "metadata": {
        "id": "i83N3hlbT1xJ"
      },
      "outputs": [],
      "source": [
        "school_ratings.info()"
      ]
    },
    {
      "cell_type": "code",
      "execution_count": null,
      "metadata": {
        "id": "y8k15_Aw1bYV"
      },
      "outputs": [],
      "source": [
        "school_ratings = school_ratings.rename(columns={\"districtCity\": \"City\"})"
      ]
    },
    {
      "cell_type": "markdown",
      "source": [
        "#### Merging datasets"
      ],
      "metadata": {
        "id": "vdPgpP2szx4j"
      }
    },
    {
      "cell_type": "code",
      "execution_count": null,
      "metadata": {
        "id": "F_JZhkSqOlt8"
      },
      "outputs": [],
      "source": [
        "Merge1 = pd.merge(houses_clean, cities, on = 'City')\n",
        "Merge2 = Merge1.merge(GDP_clean, on = 'County')\n",
        "Merge3 = pd.merge(Merge2, crimes_clean, on = 'City')\n",
        "Merge3 = Merge3.drop(['State'],axis=1)\n",
        "Merge4 = pd.merge(Merge3, school_ratings,  how='inner', left_on= ['City','zipcode'], right_on =  ['City','zipcode'])"
      ]
    },
    {
      "cell_type": "code",
      "source": [
        "Merge4 = Merge4.astype({'zipcode': 'object'})"
      ],
      "metadata": {
        "id": "MS-o5bic8S8M"
      },
      "execution_count": null,
      "outputs": []
    },
    {
      "cell_type": "code",
      "execution_count": null,
      "metadata": {
        "id": "Fc0LwGWauwwn"
      },
      "outputs": [],
      "source": [
        "Merge4.shape"
      ]
    },
    {
      "cell_type": "code",
      "execution_count": null,
      "metadata": {
        "id": "lCpRocnAwXr8"
      },
      "outputs": [],
      "source": [
        "Merge4.plot.box(title=\"CRIME\", figsize=(12,12))"
      ]
    },
    {
      "cell_type": "code",
      "execution_count": null,
      "metadata": {
        "id": "twAD3qYLvXtp"
      },
      "outputs": [],
      "source": [
        "Merge4.hist(bins=100, figsize=(15, 15), grid=False , color='tab:blue')"
      ]
    },
    {
      "cell_type": "code",
      "execution_count": null,
      "metadata": {
        "id": "5Dm5gFyPi65U"
      },
      "outputs": [],
      "source": [
        "Merge4.to_csv('Merge4.csv',index=False)\n",
        "!cp Merge4.csv \"/content/gdrive/Shareddrives/Data 270/Datasets\""
      ]
    },
    {
      "cell_type": "code",
      "execution_count": null,
      "metadata": {
        "id": "iM4G-QeRyovv"
      },
      "outputs": [],
      "source": [
        "Merge4.info()"
      ]
    },
    {
      "cell_type": "markdown",
      "source": [
        "####Visualizations on merged dataset"
      ],
      "metadata": {
        "id": "LGA1T7CX5DZN"
      }
    },
    {
      "cell_type": "code",
      "source": [
        "import matplotlib.pyplot as plt\n",
        "\n",
        "plt.figure(figsize=(20,20))\n",
        "cor = Merge4.corr()\n",
        "sns.heatmap(cor, annot=True, cmap=plt.cm.Reds)\n",
        "plt.xticks(rotation=90)\n",
        "plt.show()"
      ],
      "metadata": {
        "id": "x4lA5PSp2rc4"
      },
      "execution_count": null,
      "outputs": []
    },
    {
      "cell_type": "markdown",
      "metadata": {
        "id": "JpgklFu0pE7c"
      },
      "source": [
        "## Testing Modeling"
      ]
    },
    {
      "cell_type": "markdown",
      "metadata": {
        "id": "TuEHYHOJ1353"
      },
      "source": [
        "### Only houses with no Transformations"
      ]
    },
    {
      "cell_type": "code",
      "execution_count": null,
      "metadata": {
        "id": "QKKTe74Q12m8"
      },
      "outputs": [],
      "source": [
        "# creating instance of labelencoder\n",
        "labelencoder = LabelEncoder()\n",
        "# Assigning numerical values and storing in another column\n",
        "houses_clean['City_Cat'] = labelencoder.fit_transform(houses_clean['City'])\n"
      ]
    },
    {
      "cell_type": "code",
      "execution_count": null,
      "metadata": {
        "id": "9yTBy-HZYMj-"
      },
      "outputs": [],
      "source": [
        "houses_clean.info()"
      ]
    },
    {
      "cell_type": "code",
      "execution_count": null,
      "metadata": {
        "id": "vGWHV3n715BF"
      },
      "outputs": [],
      "source": [
        "X = houses_clean.drop(['price', 'City'],axis=1)\n",
        "y = houses_clean[['price']]\n",
        "\n",
        "X_train, X_test, y_train, y_test = train_test_split(X, y, test_size=0.2, random_state=42)\n",
        "\n",
        "print(\"There are {} Training Data\".format(X_train.shape[0]))\n",
        "print(\"There are {} Testing Data\".format(X_test.shape[0]))"
      ]
    },
    {
      "cell_type": "code",
      "execution_count": null,
      "metadata": {
        "id": "FpTwjDZE2171"
      },
      "outputs": [],
      "source": [
        "model= XGBRegressor(n_estimators=100, max_depth=7, eta=0.1)\n",
        "model_fit = model.fit(X_train, y_train)\n",
        "model_score = model.score(X_test, y_test)\n",
        "pred = model.predict(X_test)\n",
        "mse = mean_squared_error(y_test, pred)\n",
        "rmse = (np.sqrt(mean_squared_error(y_test, pred)))\n",
        "r2 = r2_score(y_test, pred)\n",
        "r2"
      ]
    },
    {
      "cell_type": "markdown",
      "metadata": {
        "id": "yb8_KxY02jhB"
      },
      "source": [
        "### Merged Dataset with no transformation"
      ]
    },
    {
      "cell_type": "code",
      "execution_count": null,
      "metadata": {
        "id": "TchH_gEknx83"
      },
      "outputs": [],
      "source": [
        "# creating instance of labelencoder\n",
        "labelencoder = LabelEncoder()\n",
        "# Assigning numerical values and storing in another column\n",
        "Merge4['City_Cat'] = labelencoder.fit_transform(Merge4['City'])\n",
        "Merge4['County_Cat'] = labelencoder.fit_transform(Merge4['County'])\n",
        "Merge4['zipcode_Cat'] = labelencoder.fit_transform(Merge4['zipcode'])"
      ]
    },
    {
      "cell_type": "code",
      "source": [
        "Merge4['zipcode_Cat'].unique()"
      ],
      "metadata": {
        "id": "XhhFg2QVl1-O"
      },
      "execution_count": null,
      "outputs": []
    },
    {
      "cell_type": "code",
      "execution_count": null,
      "metadata": {
        "id": "PD5Rf-E4Tb8e"
      },
      "outputs": [],
      "source": [
        "\n",
        "X = Merge4.drop(['price', 'City', 'County'],axis=1)\n",
        "y = Merge4[['price']]\n",
        "\n",
        "X_train, X_test, y_train, y_test = train_test_split(X, y, test_size=0.2, random_state=42)\n",
        "\n",
        "print(\"There are {} Training Data\".format(X_train.shape[0]))\n",
        "print(\"There are {} Testing Data\".format(X_test.shape[0]))"
      ]
    },
    {
      "cell_type": "code",
      "execution_count": null,
      "metadata": {
        "id": "_wSjX1XWmuZt"
      },
      "outputs": [],
      "source": [
        "\n",
        "X = Merge4.drop(['price', 'City', 'County','zipcode'],axis=1)\n",
        "y = Merge4[['price']]\n",
        "\n",
        "X_train, X_test, y_train, y_test = train_test_split(X, y, test_size=0.2, random_state=42)\n",
        "\n",
        "print(\"There are {} Training Data\".format(X_train.shape[0]))\n",
        "print(\"There are {} Testing Data\".format(X_test.shape[0]))"
      ]
    },
    {
      "cell_type": "code",
      "execution_count": null,
      "metadata": {
        "id": "J_uwgLtpTwcs"
      },
      "outputs": [],
      "source": [
        "model= XGBRegressor(n_estimators=100, max_depth=7, eta=0.1)\n",
        "model_fit = model.fit(X_train, y_train)\n",
        "model_score = model.score(X_test, y_test)\n",
        "pred = model.predict(X_test)\n",
        "mse = mean_squared_error(y_test, pred)\n",
        "rmse = (np.sqrt(mean_squared_error(y_test, pred)))\n",
        "r2 = r2_score(y_test, pred)\n",
        "r2"
      ]
    },
    {
      "cell_type": "markdown",
      "source": [
        "## Transformation"
      ],
      "metadata": {
        "id": "KyYIa0sz-b8t"
      }
    },
    {
      "cell_type": "markdown",
      "metadata": {
        "id": "aSLMB67M_VTt"
      },
      "source": [
        "### Use Standardization"
      ]
    },
    {
      "cell_type": "code",
      "source": [
        "Merge4"
      ],
      "metadata": {
        "id": "94C9TIcjGrWy"
      },
      "execution_count": null,
      "outputs": []
    },
    {
      "cell_type": "code",
      "execution_count": null,
      "metadata": {
        "id": "CdanYFD7_TXX"
      },
      "outputs": [],
      "source": [
        "stdsc = StandardScaler()\n",
        "Merge4_no_cat = Merge4.drop(['City','County','zipcode'],axis=1)\n",
        "Merge4_no_cat.iloc[:,:]=stdsc.fit_transform(Merge4_no_cat.iloc[:,:])"
      ]
    },
    {
      "cell_type": "code",
      "source": [
        "Merge4_no_cat"
      ],
      "metadata": {
        "id": "4RsSxZfhdmnW"
      },
      "execution_count": null,
      "outputs": []
    },
    {
      "cell_type": "code",
      "execution_count": null,
      "metadata": {
        "id": "KJj5BMSv_f6T"
      },
      "outputs": [],
      "source": [
        "X = Merge4_no_cat.drop(['price'],axis=1)\n",
        "y = Merge4_no_cat[['price']]\n",
        "\n",
        "X_train, X_test, y_train, y_test = train_test_split(X, y, test_size=0.2, random_state=42)\n",
        "\n",
        "print(\"There are {} Training Data\".format(X_train.shape[0]))\n",
        "print(\"There are {} Testing Data\".format(X_test.shape[0]))"
      ]
    },
    {
      "cell_type": "code",
      "execution_count": null,
      "metadata": {
        "id": "4z8Bh0pV_joE"
      },
      "outputs": [],
      "source": [
        "model= XGBRegressor(n_estimators=100, max_depth=7, eta=0.1)\n",
        "model_fit = model.fit(X_train, y_train)\n",
        "model_score = model.score(X_test, y_test)\n",
        "pred = model.predict(X_test)\n",
        "mse = mean_squared_error(y_test, pred)\n",
        "rmse = (np.sqrt(mean_squared_error(y_test, pred)))\n",
        "r2 = r2_score(y_test, pred)\n",
        "r2"
      ]
    },
    {
      "cell_type": "markdown",
      "metadata": {
        "id": "O8TuJNoM8FMR"
      },
      "source": [
        "### Use normalization"
      ]
    },
    {
      "cell_type": "code",
      "source": [
        "Merge4"
      ],
      "metadata": {
        "id": "xvy6UhfUfnZ0"
      },
      "execution_count": null,
      "outputs": []
    },
    {
      "cell_type": "code",
      "source": [
        "#Performed normalization using MinMax scaler() on the merged dataframe - 'Merge4'\n",
        "cols = Merge4.columns\n",
        "num_cols = Merge4._get_numeric_data().columns\n",
        "cat_cols = list(set(cols) - set(num_cols))\n",
        "scaler = preprocessing.MinMaxScaler()\n",
        "Merge4.loc[:, num_cols]= scaler.fit_transform(Merge4.loc[:, num_cols])\n",
        "Merge4.loc[:, cat_cols] = Merge4.loc[:, cat_cols].apply(LabelEncoder().fit_transform)\n"
      ],
      "metadata": {
        "id": "UfoZ_GUxn-kc"
      },
      "execution_count": null,
      "outputs": []
    },
    {
      "cell_type": "code",
      "source": [
        "Merge4.to_csv('normalized.csv',index=False) \n",
        "Merge4.head()"
      ],
      "metadata": {
        "id": "WmXL5XTUohy-"
      },
      "execution_count": null,
      "outputs": []
    },
    {
      "cell_type": "code",
      "execution_count": null,
      "metadata": {
        "id": "i91QrCpm0Yih"
      },
      "outputs": [],
      "source": [
        "# check xgboost model \n",
        "import xgboost\n",
        "from sklearn.metrics import mean_squared_error\n",
        "from sklearn.metrics import r2_score\n",
        "import numpy\n",
        "from xgboost import XGBRegressor\n",
        "\n",
        "# create an xgboost regression model\n",
        "model = XGBRegressor()\n",
        "...\n",
        "# create an xgboost regression model as a test base model\n",
        "model = XGBRegressor(n_estimators=100, max_depth=7, eta=0.1, subsample=0.7, colsample_bytree=0.5)\n",
        "#model= XGBRegressor(n_estimators=100, max_depth=7, eta=0.1)\n",
        "model_fit = model.fit(X_train, y_train)\n",
        "model_score = model.score(X_test, y_test)\n",
        "pred = model.predict(X_test)\n",
        "mse = mean_squared_error(y_test, pred)\n",
        "rmse = (np.sqrt(mean_squared_error(y_test, pred)))\n",
        "r2 = r2_score(y_test, pred)\n",
        "r2"
      ]
    },
    {
      "cell_type": "code",
      "execution_count": null,
      "metadata": {
        "id": "5gy1llVL8K5o"
      },
      "outputs": [],
      "source": [
        "Merge4_normalized = Merge4.drop(['City','County','zipcode'],axis=1)\n",
        "scaler = preprocessing.MinMaxScaler()\n",
        "names = Merge4_normalized.columns\n",
        "d = scaler.fit_transform(Merge4_normalized)\n",
        "scaled_df = pd.DataFrame(d, columns=names)\n",
        "scaled_df.head()"
      ]
    },
    {
      "cell_type": "code",
      "source": [
        "Merged4_Transformed = scaled_df "
      ],
      "metadata": {
        "id": "0t1Nsc0bJwDF"
      },
      "execution_count": null,
      "outputs": []
    },
    {
      "cell_type": "code",
      "execution_count": null,
      "metadata": {
        "id": "MlG8A9ZFS6FM"
      },
      "outputs": [],
      "source": [
        "scaled_df.hist(bins=90, figsize=(15, 15), grid=False , color='tab:blue')"
      ]
    },
    {
      "cell_type": "code",
      "source": [
        "Merged4_Transformed"
      ],
      "metadata": {
        "id": "zcMArGpqkkTS"
      },
      "execution_count": null,
      "outputs": []
    },
    {
      "cell_type": "code",
      "execution_count": null,
      "metadata": {
        "id": "TIxgQrfxEHRY"
      },
      "outputs": [],
      "source": [
        "from sklearn.model_selection import train_test_split\n",
        "X = scaled_df.drop(['price'],axis=1)\n",
        "y = scaled_df[['price']]\n",
        "\n",
        "X_train, X_test, y_train, y_test = train_test_split(X, y, test_size=0.3, random_state=42)\n",
        "\n",
        "print(\"There are {} Training Data\".format(X_train.shape[0]))\n",
        "print(\"There are {} Testing Data\".format(X_test.shape[0]))\n"
      ]
    },
    {
      "cell_type": "code",
      "source": [
        "Merged4_Transformed.to_csv('normalized.csv',index=False) \n"
      ],
      "metadata": {
        "id": "la3Nhjc_6Txq"
      },
      "execution_count": null,
      "outputs": []
    },
    {
      "cell_type": "markdown",
      "metadata": {
        "id": "Wv4I7soF_Fq3"
      },
      "source": [
        "### Use PCA"
      ]
    },
    {
      "cell_type": "code",
      "execution_count": null,
      "metadata": {
        "id": "q9dmjv9PedN0"
      },
      "outputs": [],
      "source": [
        "X = Merge4_normalized.drop(['price'],axis=1)\n",
        "y = Merge4_normalized[['price']]\n",
        "X.shape"
      ]
    },
    {
      "cell_type": "code",
      "execution_count": null,
      "metadata": {
        "id": "-qKRw7ux_E-s"
      },
      "outputs": [],
      "source": [
        "pca = PCA()\n",
        "X_pca = pca.fit_transform(X)\n",
        "X_pca.shape"
      ]
    },
    {
      "cell_type": "code",
      "execution_count": null,
      "metadata": {
        "id": "ZSri9wd9H2zv"
      },
      "outputs": [],
      "source": [
        "X_train, X_test, y_train, y_test = train_test_split(X_pca, y, test_size=0.2, random_state=42)"
      ]
    },
    {
      "cell_type": "code",
      "execution_count": null,
      "metadata": {
        "id": "q61pxJRjHxHs"
      },
      "outputs": [],
      "source": [
        "model= XGBRegressor(n_estimators=100, max_depth=7, eta=0.1)\n",
        "model_fit = model.fit(X_train, y_train)\n",
        "model_score = model.score(X_test, y_test)\n",
        "pred = model.predict(X_test)\n",
        "mse = mean_squared_error(y_test, pred)\n",
        "rmse = (np.sqrt(mean_squared_error(y_test, pred)))\n",
        "r2 = r2_score(y_test, pred)\n",
        "r2"
      ]
    },
    {
      "cell_type": "markdown",
      "metadata": {
        "id": "JuvxuYMa4Wyw"
      },
      "source": [
        "### SVD\n"
      ]
    },
    {
      "cell_type": "code",
      "execution_count": null,
      "metadata": {
        "id": "W4cLJqOs4auv"
      },
      "outputs": [],
      "source": [
        "svd=TruncatedSVD()\n",
        "x_svd=svd.fit(X).transform(X)\n",
        "x_svd.shape"
      ]
    },
    {
      "cell_type": "code",
      "execution_count": null,
      "metadata": {
        "id": "8Cx7E72DSt7P"
      },
      "outputs": [],
      "source": [
        "X_train, X_test, y_train, y_test = train_test_split(x_svd, y, test_size=0.2, random_state=42)"
      ]
    },
    {
      "cell_type": "code",
      "execution_count": null,
      "metadata": {
        "id": "jvq1X8LpS58D"
      },
      "outputs": [],
      "source": [
        "model= XGBRegressor(n_estimators=100, max_depth=7, eta=0.1)\n",
        "model_fit = model.fit(X_train, y_train)\n",
        "model_score = model.score(X_test, y_test)\n",
        "pred = model.predict(X_test)\n",
        "mse = mean_squared_error(y_test, pred)\n",
        "rmse = (np.sqrt(mean_squared_error(y_test, pred)))\n",
        "r2 = r2_score(y_test, pred)\n",
        "r2"
      ]
    },
    {
      "cell_type": "markdown",
      "metadata": {
        "id": "Ihnyl_ExuQXK"
      },
      "source": [
        "### Regression"
      ]
    },
    {
      "cell_type": "code",
      "execution_count": null,
      "metadata": {
        "id": "p_Q6UQMAuTuM"
      },
      "outputs": [],
      "source": [
        "\n",
        "import pandas as pd\n",
        "import numpy as np\n",
        "import matplotlib.pyplot as plt\n",
        "from sklearn.linear_model import LinearRegression, Ridge, Lasso\n",
        "from sklearn.model_selection import train_test_split, cross_val_score\n",
        "from statistics import mean\n",
        "# https://www.geeksforgeeks.org/ml-implementing-l1-and-l2-regularization-using-sklearn/"
      ]
    },
    {
      "cell_type": "code",
      "execution_count": null,
      "metadata": {
        "id": "uo-B1gsZ4UH3"
      },
      "outputs": [],
      "source": [
        " Merge4.head(5)"
      ]
    },
    {
      "cell_type": "code",
      "execution_count": null,
      "metadata": {
        "id": "iyHOnSeAuTxM"
      },
      "outputs": [],
      "source": [
        "#X = Merge4_no_cat.drop(['price'],axis=1)\n",
        "#y = Merge4_no_cat[['price']]\n",
        "#X = Merge4.drop(['price', 'City', 'County'],axis=1)\n",
        "#y = Merge4[['price']]\n",
        "X = Merged4_Transformed.drop(['price'],axis=1)\n",
        "y = Merged4_Transformed[['price']]"
      ]
    },
    {
      "cell_type": "code",
      "execution_count": null,
      "metadata": {
        "id": "kMyVJnnguTzt"
      },
      "outputs": [],
      "source": [
        "X_train, X_test, y_train, y_test = train_test_split(X, y, test_size=0.2, random_state=42)"
      ]
    },
    {
      "cell_type": "code",
      "execution_count": null,
      "metadata": {
        "id": "T0N6n_bPuT2-"
      },
      "outputs": [],
      "source": [
        "## Building and fitting the Linear Regression model\n",
        "linearModel = LinearRegression()\n",
        "linearModel.fit(X_train, y_train)\n",
        " \n",
        "# Evaluating the Linear Regression model\n",
        "print('R squared training set',linearModel.score(X_train, y_train))\n",
        "print('R squared test set',linearModel.score(X_test, y_test))"
      ]
    },
    {
      "cell_type": "code",
      "execution_count": null,
      "metadata": {
        "id": "H2INpDyr8evb"
      },
      "outputs": [],
      "source": [
        "print(list(zip(linearModel.coef_, X)))"
      ]
    },
    {
      "cell_type": "markdown",
      "metadata": {
        "id": "fT5vfagpx4Hv"
      },
      "source": [
        "### Ridge regression (L2)"
      ]
    },
    {
      "cell_type": "code",
      "execution_count": null,
      "metadata": {
        "id": "v43AVDUduT7m"
      },
      "outputs": [],
      "source": [
        "# Building and fitting the Ridge Regression model\n",
        "ridgeModelChosen = Ridge(alpha=0.001)\n",
        "Fit= ridgeModelChosen.fit(X_train, y_train)\n",
        "#Merge4_ridge = Fit.fit(X_train,y_train)\n",
        " \n",
        "# Evaluating the Ridge Regression model\n",
        "print(ridgeModelChosen.score(X_test, y_test))"
      ]
    },
    {
      "cell_type": "code",
      "execution_count": null,
      "metadata": {
        "id": "_tjdiKCfzKfp"
      },
      "outputs": [],
      "source": [
        "print('R squared training set',ridgeModelChosen.score(X_train, y_train))\n",
        "print('R squared test set',ridgeModelChosen.score(X_test, y_test))"
      ]
    },
    {
      "cell_type": "code",
      "execution_count": null,
      "metadata": {
        "id": "lxhnKO2q9Aa9"
      },
      "outputs": [],
      "source": [
        "print(list(zip(ridgeModelChosen.coef_, X)))"
      ]
    },
    {
      "cell_type": "markdown",
      "metadata": {
        "id": "OoizpGmExxmS"
      },
      "source": [
        "### Lasso Regression(L1)"
      ]
    },
    {
      "cell_type": "code",
      "execution_count": null,
      "metadata": {
        "id": "Pp4dDqJLye40"
      },
      "outputs": [],
      "source": [
        "\n",
        "# Building and fitting the Lasso Regression Model\n",
        "lassoModelChosen = Lasso(alpha=0.001)\n",
        "lassoModelChosen.fit(X_train, y_train)"
      ]
    },
    {
      "cell_type": "code",
      "execution_count": null,
      "metadata": {
        "id": "_odAMgePqoWC"
      },
      "outputs": [],
      "source": [
        "# Evaluating the Lasso Regression model\n",
        "#print(lassoModelChosen.score(X_test, y_test))\n",
        "print('R squared training set',lassoModelChosen.score(X_train, y_train))\n",
        "print('R squared test set',lassoModelChosen.score(X_test, y_test))"
      ]
    },
    {
      "cell_type": "code",
      "execution_count": null,
      "metadata": {
        "id": "BV5ids4z9Z5Z"
      },
      "outputs": [],
      "source": [
        "print(list(zip(lassoModelChosen.coef_, X)))"
      ]
    },
    {
      "cell_type": "code",
      "execution_count": null,
      "metadata": {
        "id": "CJ6RHh0Hlyej"
      },
      "outputs": [],
      "source": [
        "#sruthi\n",
        "from sklearn.linear_model import Lasso\n",
        "from sklearn.linear_model import LinearRegression\n",
        "#from sklearn.cross_validation import train_test_split"
      ]
    },
    {
      "cell_type": "code",
      "execution_count": null,
      "metadata": {
        "id": "wJPWQHdXmJOY"
      },
      "outputs": [],
      "source": [
        "lasso = Lasso(alpha=0.001)\n",
        "lasso.fit(X_train,y_train)\n",
        "train_score=lasso.score(X_train,y_train)\n",
        "test_score=lasso.score(X_test,y_test)\n",
        "coeff_used = np.sum(lasso.coef_!=0)"
      ]
    },
    {
      "cell_type": "code",
      "execution_count": null,
      "metadata": {
        "id": "iyz91QXAmJRw"
      },
      "outputs": [],
      "source": [
        "print (\"training score:\", train_score) \n",
        "print (\"test score: \", test_score)\n",
        "print (\"number of features used: \", coeff_used)"
      ]
    },
    {
      "cell_type": "code",
      "execution_count": null,
      "metadata": {
        "id": "ZspI1yTYRMhR"
      },
      "outputs": [],
      "source": [
        "print('R squared training set',lassoModelChosen.score(X_train, y_train))\n",
        "print('R squared test set',lassoModelChosen.score(X_test, y_test))"
      ]
    },
    {
      "cell_type": "code",
      "execution_count": null,
      "metadata": {
        "id": "zHI5ygltBgOQ"
      },
      "outputs": [],
      "source": [
        "list_coeff = list(zip(lassoModelChosen.coef_, X))"
      ]
    },
    {
      "cell_type": "code",
      "source": [
        "liste = pd.DataFrame(list_coeff)\n",
        "np.array(liste[(liste[0]>0.001) | (liste[0]<-0.001)][1])"
      ],
      "metadata": {
        "id": "wW7zdCXHxnKE"
      },
      "execution_count": null,
      "outputs": []
    },
    {
      "cell_type": "code",
      "execution_count": null,
      "metadata": {
        "id": "RfDi-ejqyfAg"
      },
      "outputs": [],
      "source": [
        "print(list(zip(lasso.coef_, X)),sep = \"\\n\")"
      ]
    },
    {
      "cell_type": "markdown",
      "source": [
        "## Data preparation"
      ],
      "metadata": {
        "id": "hLhPfsFuA5Ia"
      }
    },
    {
      "cell_type": "code",
      "source": [
        "Merged4_Transformed.shape"
      ],
      "metadata": {
        "id": "2LU0xWUpqMgn"
      },
      "execution_count": null,
      "outputs": []
    },
    {
      "cell_type": "code",
      "source": [
        "X = Merged4_Transformed.drop(['price'],axis=1)\n",
        "y = Merged4_Transformed[['price']]\n",
        "\n",
        "X_train, X_test, y_train, y_test = train_test_split(X, y, test_size=0.2, random_state=42)\n",
        "\n",
        "#X_train, X_valid, y_train, y_valid = train_test_split(X_train, y_train, test_size=0.25, random_state=42)\n",
        "\n",
        "print(\"There are {} Training Data\".format(X_train.shape[0]))\n",
        "#print(\"There are {} Validation Data\".format(X_valid.shape[0]))\n",
        "print(\"There are {} Testing Data\".format(X_test.shape[0]))"
      ],
      "metadata": {
        "id": "i0Skq9b2A4FL"
      },
      "execution_count": null,
      "outputs": []
    },
    {
      "cell_type": "code",
      "source": [
        "#Merged4_Transformed.to_csv('Merged_preprocessed.csv', index=False)\n",
        "#!cp Merged_preprocessed.csv.csv \"/content/gdrive/Shareddrives/Data 270/Datasets/houses_files\""
      ],
      "metadata": {
        "id": "khPRI9OvuGpt"
      },
      "execution_count": null,
      "outputs": []
    },
    {
      "cell_type": "markdown",
      "source": [
        "## Cross-Validation"
      ],
      "metadata": {
        "id": "PLNaGXRDxxdE"
      }
    },
    {
      "cell_type": "code",
      "source": [
        "XGB_model= XGBRegressor(n_estimators=100, max_depth=7, eta=0.1)\n",
        "kf=KFold(n_splits=10, shuffle = True)\n",
        "score=cross_val_score(XGB_model,X_train,y_train,cv=kf)\n",
        "print(\"Cross Validation Scores are {}\".format(score))\n",
        "print(\"Mean Cross Validation score :{}\".format(score.mean()))\n"
      ],
      "metadata": {
        "id": "wF98TQyrx1B5"
      },
      "execution_count": null,
      "outputs": []
    },
    {
      "cell_type": "code",
      "source": [
        "XGB_model= XGBRegressor(n_estimators=100, max_depth=7, eta=0.1)\n",
        "kf=KFold(n_splits=10, shuffle = True)\n",
        "score=cross_val_score(XGB_model,X,y,cv=kf)\n",
        "print(\"Cross Validation Scores are {}\".format(score))\n",
        "print(\"Mean Cross Validation score :{}\".format(score.mean()))"
      ],
      "metadata": {
        "id": "mKgWv5zYzdkN"
      },
      "execution_count": null,
      "outputs": []
    },
    {
      "cell_type": "code",
      "source": [
        "for train_index, test_index in kf.split(X_train):\n",
        "      print(\"Train:\", train_index, \"Validation:\",test_index)\n",
        "      X_train, X_test = X_train[train_index], X_train[test_index] \n",
        "      y_train, y_test = y_train[train_index], y_train[test_index]"
      ],
      "metadata": {
        "id": "GK3HCEED274i"
      },
      "execution_count": null,
      "outputs": []
    },
    {
      "cell_type": "code",
      "source": [
        "pred = model.predict(X_test)\n",
        "mse = mean_squared_error(y_test, pred)\n",
        "rmse = (np.sqrt(mean_squared_error(y_test, pred)))\n",
        "r2 = r2_score(y_test, pred)\n",
        "r2\n",
        "\n",
        "score=cross_val_score(logreg,X,Y,cv=kf)\n",
        "print(\"Cross Validation Scores are {}\".format(score))\n",
        "print(\"Average Cross Validation score :{}\".format(score.mean()))"
      ],
      "metadata": {
        "id": "xNOpWtlhzSFS"
      },
      "execution_count": null,
      "outputs": []
    },
    {
      "cell_type": "markdown",
      "source": [
        "## Modeling"
      ],
      "metadata": {
        "id": "DkDYuy6r6ToV"
      }
    },
    {
      "cell_type": "markdown",
      "source": [
        "### ANN"
      ],
      "metadata": {
        "id": "4bsgs3C-p2h1"
      }
    },
    {
      "cell_type": "code",
      "source": [
        "Merge4.info()"
      ],
      "metadata": {
        "id": "EZYJ18Vj6oZ_"
      },
      "execution_count": null,
      "outputs": []
    },
    {
      "cell_type": "code",
      "source": [
        "Merge4.shape"
      ],
      "metadata": {
        "id": "bhmoe8YUirkJ"
      },
      "execution_count": null,
      "outputs": []
    },
    {
      "cell_type": "code",
      "source": [
        "cols = Merge4.columns"
      ],
      "metadata": {
        "id": "1MhcJBtV76AS"
      },
      "execution_count": null,
      "outputs": []
    },
    {
      "cell_type": "code",
      "source": [
        "num_cols = Merge4._get_numeric_data().columns"
      ],
      "metadata": {
        "id": "YJ1EL5BZ7_vk"
      },
      "execution_count": null,
      "outputs": []
    },
    {
      "cell_type": "code",
      "source": [
        "cat_cols = list(set(cols) - set(num_cols))"
      ],
      "metadata": {
        "id": "R3fXZvt68Q0N"
      },
      "execution_count": null,
      "outputs": []
    },
    {
      "cell_type": "code",
      "source": [
        "one_hot_encoded_data = pd.get_dummies(Merge4, columns =cat_cols)\n",
        "one_hot_encoded_data.shape"
      ],
      "metadata": {
        "id": "q4uhvhh010Eo"
      },
      "execution_count": null,
      "outputs": []
    },
    {
      "cell_type": "code",
      "source": [
        "scaler = preprocessing.MinMaxScaler()\n",
        "names = one_hot_encoded_data.columns\n",
        "one_hot_encoded_data.loc[:, num_cols]= scaler.fit_transform(one_hot_encoded_data.loc[:, num_cols])\n",
        "Merge4_transformed = pd.DataFrame(one_hot_encoded_data, columns = names)\n",
        "Merge4_transformed.head()"
      ],
      "metadata": {
        "id": "0qd-85uk0P2F"
      },
      "execution_count": null,
      "outputs": []
    },
    {
      "cell_type": "code",
      "source": [
        "\n",
        "X = Merge4_transformed.drop(['price'],axis=1)\n",
        "y = Merge4_transformed[['price']]\n",
        "\n",
        "X_train, X_test, y_train, y_test = train_test_split(X, y, test_size=0.2, random_state=42)\n",
        "X_train, X_valid, y_train, y_valid = train_test_split(X_train, y_train, test_size=0.25, random_state=42)\n",
        "\n",
        "\n",
        "### prepare the model\n",
        "model = keras.Sequential()\n",
        "model.add(keras.layers.Dense(8, activation = 'relu', input_shape = (X_train.shape[1],) ))\n",
        "model.add(keras.layers.Dense(8, activation = 'relu'))\n",
        "model.add(keras.layers.Dense(1))\n",
        "model.compile(optimizer = 'adam', loss = 'mean_squared_error', metrics=[r2_score], run_eagerly=True)\n"
      ],
      "metadata": {
        "id": "_nfRN4K0yamj"
      },
      "execution_count": null,
      "outputs": []
    },
    {
      "cell_type": "code",
      "source": [
        "model.fit(X_train, y_train, epochs = 30, callbacks = [keras.callbacks.EarlyStopping(patience =5)])"
      ],
      "metadata": {
        "id": "PB9fWGlzrv6K"
      },
      "execution_count": null,
      "outputs": []
    },
    {
      "cell_type": "code",
      "source": [
        "np.array(model.predict(X_valid))"
      ],
      "metadata": {
        "id": "xfjQKvdk8pZX"
      },
      "execution_count": null,
      "outputs": []
    },
    {
      "cell_type": "code",
      "source": [
        "np.array(y_valid)"
      ],
      "metadata": {
        "id": "eFfsX_Tq8twB"
      },
      "execution_count": null,
      "outputs": []
    },
    {
      "cell_type": "code",
      "source": [
        "from keras import backend as K\n",
        "\n",
        "def coeff_determination(y_true, y_pred):\n",
        "    SS_res =  K.sum(K.square( y_true-y_pred ))\n",
        "    SS_tot = K.sum(K.square( y_true - K.mean(y_true) ) )\n",
        "    return ( 1 - SS_res/(SS_tot + K.epsilon()) )\n",
        "\n",
        "coeff_determination(np.array(y_valid), model.predict(X_valid))"
      ],
      "metadata": {
        "id": "3H8wV3wysPfg"
      },
      "execution_count": null,
      "outputs": []
    },
    {
      "cell_type": "code",
      "source": [
        "model.save(\"\")"
      ],
      "metadata": {
        "id": "lX25GMhOsxz5"
      },
      "execution_count": null,
      "outputs": []
    },
    {
      "cell_type": "markdown",
      "source": [
        "### Random forest\n"
      ],
      "metadata": {
        "id": "HGSQnAXXWuFA"
      }
    },
    {
      "cell_type": "code",
      "source": [
        "normalized_data = pd.read_csv('normalized.csv')"
      ],
      "metadata": {
        "id": "3KNK5F8IWaII"
      },
      "execution_count": null,
      "outputs": []
    },
    {
      "cell_type": "code",
      "source": [
        "#Train test split\n",
        "\n",
        "rf_x = normalized_data.drop(['price'],axis=1)\n",
        "rf_y = normalized_data[['price']]\n",
        "\n",
        "X_train, X_test, y_train, y_test = train_test_split(rf_x, rf_y, test_size=0.2, random_state=42)\n",
        "\n",
        "X_train, X_valid, y_train, y_valid = train_test_split(X_train, y_train, test_size=0.25, random_state=42)\n",
        "\n",
        "print(\"There are {} Training Data\".format(X_train.shape[0]))\n",
        "print(\"There are {} Validation Data\".format(X_valid.shape[0]))\n",
        "print(\"There are {} Testing Data\".format(X_test.shape[0]))\n"
      ],
      "metadata": {
        "id": "pEHarSGpz2zx"
      },
      "execution_count": null,
      "outputs": []
    },
    {
      "cell_type": "markdown",
      "source": [
        "Creating Random forest without hyper parameter tuning"
      ],
      "metadata": {
        "id": "lP9u1pP-XG4v"
      }
    },
    {
      "cell_type": "code",
      "source": [
        "from sklearn.ensemble import RandomForestRegressor\n",
        "# Initializing the Random Forest Regression model\n",
        "model = RandomForestRegressor(n_estimators = 100, random_state = 42)\n",
        "# Fitting the Random Forest Regression model to the data\n",
        "model.fit(X_train, y_train)\n",
        "# Predicting the target values of the test set\n",
        "y_pred = model.predict(X_train)\n",
        "# RMSE #MAE #R-2\n",
        "rmse = float(format(np.sqrt(mean_squared_error(y_train, y_pred)), '.3f'))\n",
        "print(\"train score for baseline:\")\n",
        "print(\"\\nRMSE: \", rmse)\n",
        "print(\"R-Squared score\",r2_score(y_train, y_pred))\n",
        "mae = mean_absolute_error(y_train,y_pred)\n",
        "print(\" MaE:\",mae)"
      ],
      "metadata": {
        "id": "MKelnK1UVq4G"
      },
      "execution_count": null,
      "outputs": []
    },
    {
      "cell_type": "code",
      "source": [
        "# VALIDATION SCORE\n",
        "model = RandomForestRegressor(n_estimators = 100, random_state = 42)\n",
        "# Fitting the Random Forest Regression model to the data\n",
        "model.fit(X_train, y_train)\n",
        "# Predicting the target values of the test set\n",
        "y_pred = model.predict(X_valid)\n",
        "# RMSE #MAE #R-2\n",
        "rmse = float(format(np.sqrt(mean_squared_error(y_valid, y_pred)), '.3f'))\n",
        "print(\"validation scorefor baseline:\")\n",
        "print(\"\\nRMSE: \", rmse)\n",
        "print(\"R-Squared score\",r2_score(y_valid, y_pred))\n",
        "mse = mean_squared_error(y_valid,y_pred)\n",
        "print(\" MSE:\",mse)"
      ],
      "metadata": {
        "id": "kWNpTBLEVq68"
      },
      "execution_count": null,
      "outputs": []
    },
    {
      "cell_type": "code",
      "source": [
        "#TEST SCORE\n",
        "y_pred = model.predict(X_test)\n",
        "# RMSE #MAE #R-2\n",
        "rmse = float(format(np.sqrt(mean_squared_error(y_test, y_pred)), '.3f'))\n",
        "print(\"test scorefor baseline:\")\n",
        "print(\"\\nRMSE: \", rmse)\n",
        "print(\"R-Squared score\",r2_score(y_test, y_pred))\n",
        "mae = mean_absolute_error(y_test,y_pred)\n",
        "print(\" MaE:\",mae)"
      ],
      "metadata": {
        "id": "cK6Y3rbuVq-w"
      },
      "execution_count": null,
      "outputs": []
    },
    {
      "cell_type": "markdown",
      "source": [
        "With hyperparameter tuning -GridsearchCV"
      ],
      "metadata": {
        "id": "lNvS4ERWhoF2"
      }
    },
    {
      "cell_type": "code",
      "source": [
        "from sklearn.model_selection import GridSearchCV\n",
        "\n",
        "# Create the parameter grid based on the results of random search \n",
        "\n",
        "param_grid = {'bootstrap':[True],\n",
        "              'max_depth':[80, 90, 100, 110],\n",
        "              'max_features':[2,3],\n",
        "              'min_samples_leaf':[2,5,10],\n",
        "              'min_samples_split':[1,2,4],\n",
        "              'n_estimators':[100,200,300,400]\n",
        "             }\n",
        "              \n",
        "# Create a based model\n",
        "rf = RandomForestRegressor()\n",
        "\n",
        "# Instantiate the grid search model\n",
        "grid_search = GridSearchCV(estimator = rf, param_grid = param_grid, cv = 3, n_jobs = -1, verbose = 2, )"
      ],
      "metadata": {
        "id": "82TNX82WVrQ9"
      },
      "execution_count": null,
      "outputs": []
    },
    {
      "cell_type": "code",
      "source": [
        "# Fit the grid search to the data\n",
        "grid_search.fit(X_train, y_train)"
      ],
      "metadata": {
        "id": "lA_EIIvVVrUe"
      },
      "execution_count": null,
      "outputs": []
    },
    {
      "cell_type": "code",
      "source": [
        "best_grid = grid_search.best_estimator_\n",
        "best_grid"
      ],
      "metadata": {
        "id": "Lun_ux8OVrYP"
      },
      "execution_count": null,
      "outputs": []
    },
    {
      "cell_type": "code",
      "source": [
        "# fitting in the best parameters:\n",
        "grid_regressor = RandomForestRegressor(max_depth=90, max_features=3, min_samples_leaf=2,\n",
        "                      min_samples_split=4, n_estimators=200)\n",
        "grid_regressor.fit(X_train, y_train)"
      ],
      "metadata": {
        "id": "44IOhwuXVrcR"
      },
      "execution_count": null,
      "outputs": []
    },
    {
      "cell_type": "code",
      "source": [
        "# Predicting the target values of the train set\n",
        "y_pred = grid_regressor.predict(X_train)\n",
        "print(\"y_predict score is:\",y_pred)"
      ],
      "metadata": {
        "id": "CJTxjeO4VrfH"
      },
      "execution_count": null,
      "outputs": []
    },
    {
      "cell_type": "code",
      "source": [
        "# Predicting the target values of the train set\n",
        "# RMSE (Root Mean Square Error) #MSE # R-2 SCORE:\n",
        "print(\"train score\")\n",
        "rmse = float(format(np.sqrt(mean_squared_error(y_train, y_pred)), '.3f'))\n",
        "print(\"\\nRMSE: \", rmse)\n",
        "print(\"R-Squared score\",r2_score(y_train, y_pred))\n",
        "mae = mean_absolute_error(y_train,y_pred)\n",
        "print(\"MAE:\",mae)"
      ],
      "metadata": {
        "id": "V9apXGZ0VrjX"
      },
      "execution_count": null,
      "outputs": []
    },
    {
      "cell_type": "code",
      "source": [
        "# Predicting the target values of the valid set\n",
        "y_pred = grid_regressor.predict(X_valid)\n",
        "print(\"y_predict score is:\",y_pred)"
      ],
      "metadata": {
        "id": "JvpVYbIPVrml"
      },
      "execution_count": null,
      "outputs": []
    },
    {
      "cell_type": "code",
      "source": [
        "# RMSE (Root Mean Square Error) #MSE # R-2 SCORE:\n",
        "print(\"valid score\")\n",
        "rmse = float(format(np.sqrt(mean_squared_error(y_valid, y_pred)), '.3f'))\n",
        "print(\"\\nRMSE: \", rmse)\n",
        "print(\"R-Squared score\",r2_score(y_valid, y_pred))\n",
        "mse = mean_absolute_error(y_valid,y_pred)\n",
        "print(\"MAE:\",mse)"
      ],
      "metadata": {
        "id": "i8Ro4QvCVrpn"
      },
      "execution_count": null,
      "outputs": []
    },
    {
      "cell_type": "code",
      "source": [
        "# Predicting the target values of the Test set\n",
        "y_pred = grid_regressor.predict(X_test)\n",
        "print(\"y_predict score is:\",y_pred)"
      ],
      "metadata": {
        "id": "tiXLVi1eVrtg"
      },
      "execution_count": null,
      "outputs": []
    },
    {
      "cell_type": "code",
      "source": [
        "# RMSE (Root Mean Square Error) #MSE # R-2 SCORE:\n",
        "print(\"Test score\")\n",
        "rmse = float(format(np.sqrt(mean_squared_error(y_test, y_pred)), '.3f'))\n",
        "print(\"\\nRMSE: \", rmse)\n",
        "print(\"R-Squared score\",r2_score(y_test, y_pred))\n",
        "mae = mean_absolute_error(y_test,y_pred)\n",
        "print(\"MAE:\",mae)"
      ],
      "metadata": {
        "id": "NGXZr8bCjUsp"
      },
      "execution_count": null,
      "outputs": []
    },
    {
      "cell_type": "markdown",
      "source": [
        "### KNN"
      ],
      "metadata": {
        "id": "HCscTVC5Ef6V"
      }
    },
    {
      "cell_type": "code",
      "source": [
        "Merge4_Transformed=pd.read_csv('normalized.csv')"
      ],
      "metadata": {
        "id": "CjT-n94MJfRY"
      },
      "execution_count": null,
      "outputs": []
    },
    {
      "cell_type": "code",
      "source": [
        "Merge4_Transformed.shape"
      ],
      "metadata": {
        "id": "eDDfQ3uKJsmG",
        "colab": {
          "base_uri": "https://localhost:8080/"
        },
        "outputId": "cd8a9a1c-8696-4124-abd5-418cd1244fe4"
      },
      "execution_count": null,
      "outputs": [
        {
          "output_type": "execute_result",
          "data": {
            "text/plain": [
              "(7900, 22)"
            ]
          },
          "metadata": {},
          "execution_count": 6
        }
      ]
    },
    {
      "cell_type": "code",
      "source": [
        "knn_X = Merge4_Transformed.drop(['price'],axis=1)\n",
        "knn_y = Merge4_Transformed[['price']]\n",
        "\n",
        "X_train, X_test, y_train, y_test = train_test_split(knn_X, knn_y, test_size=0.2, random_state=42)"
      ],
      "metadata": {
        "id": "3886DyxdQ-y8"
      },
      "execution_count": null,
      "outputs": []
    },
    {
      "cell_type": "code",
      "source": [
        "from sklearn.model_selection import GridSearchCV\n",
        "\n",
        "hyper_paramets_list = [{'n_neighbors': [2,3,4,5,6,7,8,9,10]}]\n",
        "\n",
        "knn = KNeighborsRegressor()\n",
        "\n",
        "model1 = GridSearchCV(knn, param_grid=hyper_paramets_list, cv=5,scoring='r2')\n",
        "model1.fit(X_train,y_train)\n",
        "model1.best_params_"
      ],
      "metadata": {
        "colab": {
          "base_uri": "https://localhost:8080/"
        },
        "id": "iyZ0F3sORMBn",
        "outputId": "70cc798a-659a-4cb2-f839-bd0296156b0e"
      },
      "execution_count": null,
      "outputs": [
        {
          "output_type": "execute_result",
          "data": {
            "text/plain": [
              "{'n_neighbors': 7}"
            ]
          },
          "metadata": {},
          "execution_count": 9
        }
      ]
    },
    {
      "cell_type": "code",
      "source": [
        "# Get the results\n",
        "print(model1.best_score_)\n",
        "print(model1.best_estimator_)\n",
        "print(model1.best_params_)"
      ],
      "metadata": {
        "id": "3Ie2jFHDEjBI",
        "colab": {
          "base_uri": "https://localhost:8080/"
        },
        "outputId": "02e7d93a-fe48-4493-8b21-5acf164495e6"
      },
      "execution_count": null,
      "outputs": [
        {
          "output_type": "stream",
          "name": "stdout",
          "text": [
            "0.6326184938348602\n",
            "KNeighborsRegressor(n_neighbors=7)\n",
            "{'n_neighbors': 7}\n"
          ]
        }
      ]
    },
    {
      "cell_type": "markdown",
      "source": [
        "Optimized K value"
      ],
      "metadata": {
        "id": "ZHGTdSPJR0DR"
      }
    },
    {
      "cell_type": "code",
      "source": [
        "knn=KNeighborsRegressor(n_neighbors=5)\n",
        "knn.fit(X_train,y_train)"
      ],
      "metadata": {
        "id": "bDqUgF1ptfiT",
        "colab": {
          "base_uri": "https://localhost:8080/"
        },
        "outputId": "497c0363-e0cb-4120-ad0d-eba0487fddf1"
      },
      "execution_count": null,
      "outputs": [
        {
          "output_type": "execute_result",
          "data": {
            "text/plain": [
              "KNeighborsRegressor()"
            ]
          },
          "metadata": {},
          "execution_count": 20
        }
      ]
    },
    {
      "cell_type": "code",
      "source": [
        "y_pred_knn_test=knn.predict(X_test)"
      ],
      "metadata": {
        "id": "UFA-MwkVym10"
      },
      "execution_count": null,
      "outputs": []
    },
    {
      "cell_type": "code",
      "source": [
        "print('R2 score for KNN ',r2_score(y_test,y_pred_knn_test))\n",
        "print('Root Mean Square error KNN',sqrt(mean_squared_error(y_test,y_pred_knn_test)))\n",
        "print('Mean Absolute Error KNN', mean_absolute_error(y_test, y_pred_knn_test))"
      ],
      "metadata": {
        "id": "0B84f5eQys-w",
        "colab": {
          "base_uri": "https://localhost:8080/"
        },
        "outputId": "7311f9ff-607e-4be2-bc25-0430150aca88"
      },
      "execution_count": null,
      "outputs": [
        {
          "output_type": "stream",
          "name": "stdout",
          "text": [
            "R2 score for KNN  0.6278270864892119\n",
            "Root Mean Square error KNN 0.12242857848645657\n",
            "Mean Absolute Error KNN 0.08428339415701705\n"
          ]
        }
      ]
    },
    {
      "cell_type": "markdown",
      "source": [
        "Manual Hyperparameter tuning"
      ],
      "metadata": {
        "id": "x28usCyaSARF"
      }
    },
    {
      "cell_type": "code",
      "source": [
        "r2score_val = [] #to store r2score values for different k\n",
        "rmse_val =[]\n",
        "mae_val=[]\n",
        "for K in range(1,11):\n",
        "    model = KNeighborsRegressor(n_neighbors = K)\n",
        "    model.fit(X_train, y_train) #fit the model\n",
        "    pred=model.predict(X_test) #make prediction on test set\n",
        "    error = sqrt(mean_squared_error(y_test,pred)) #calculate rmse\n",
        "    score=r2_score(y_test,model.predict(X_test))\n",
        "    mae=mean_absolute_error(y_test, pred)\n",
        "    r2score_val.append(score) #store r2score values\n",
        "    rmse_val.append(error)\n",
        "    mae_val.append(mae)\n",
        "    print('R2 value for k= ' , K , 'is:', score)\n",
        "    print('RMSE value for k= ' , K , 'is:', error)\n",
        "    print('MAE value for k= ' , K , 'is:', mae)"
      ],
      "metadata": {
        "id": "-ibjRiFWy0gd",
        "colab": {
          "base_uri": "https://localhost:8080/"
        },
        "outputId": "1a6c1e52-74a5-4201-b1e6-d4d6d3547202"
      },
      "execution_count": null,
      "outputs": [
        {
          "output_type": "stream",
          "name": "stdout",
          "text": [
            "R2 value for k=  1 is: 0.5260153237299063\n",
            "RMSE value for k=  1 is: 0.13816326142906604\n",
            "MAE value for k=  1 is: 0.0932389737315529\n",
            "R2 value for k=  2 is: 0.6036161742024163\n",
            "RMSE value for k=  2 is: 0.12634800482697936\n",
            "MAE value for k=  2 is: 0.08688097827070582\n",
            "R2 value for k=  3 is: 0.6192475477113979\n",
            "RMSE value for k=  3 is: 0.12383168439787863\n",
            "MAE value for k=  3 is: 0.08528142977283724\n",
            "R2 value for k=  4 is: 0.6272411177069288\n",
            "RMSE value for k=  4 is: 0.12252491960520354\n",
            "MAE value for k=  4 is: 0.08447364332176223\n",
            "R2 value for k=  5 is: 0.6278270864892119\n",
            "RMSE value for k=  5 is: 0.12242857848645657\n",
            "MAE value for k=  5 is: 0.08428339415701705\n",
            "R2 value for k=  6 is: 0.632933396387414\n",
            "RMSE value for k=  6 is: 0.1215858016333492\n",
            "MAE value for k=  6 is: 0.08398050161138723\n",
            "R2 value for k=  7 is: 0.6375331431702982\n",
            "RMSE value for k=  7 is: 0.12082159834430135\n",
            "MAE value for k=  7 is: 0.08405007593695656\n",
            "R2 value for k=  8 is: 0.6408510149754225\n",
            "RMSE value for k=  8 is: 0.12026735160336828\n",
            "MAE value for k=  8 is: 0.08416592458997407\n",
            "R2 value for k=  9 is: 0.6432420126289444\n",
            "RMSE value for k=  9 is: 0.11986634928142498\n",
            "MAE value for k=  9 is: 0.0843252044046595\n",
            "R2 value for k=  10 is: 0.6434548776841817\n",
            "RMSE value for k=  10 is: 0.11983058390947653\n",
            "MAE value for k=  10 is: 0.0844199072260853\n"
          ]
        }
      ]
    },
    {
      "cell_type": "code",
      "source": [
        "#plotting the rmse values against k values\n",
        "\n",
        "fig,ax=plt.subplots(figsize=(10,8))\n",
        "ax.plot(rmse_val)\n",
        "ax.set_xlabel('K-VALUE', fontsize=10)\n",
        "ax.set_ylabel('RMSE VALUE' ,fontsize=10)\n",
        "ax.set_title('ELBOW PLOT' ,fontsize=20)"
      ],
      "metadata": {
        "id": "3Dnxn4HYDstn",
        "colab": {
          "base_uri": "https://localhost:8080/",
          "height": 535
        },
        "outputId": "28f42ea7-0d1e-4325-b2ac-fe01f5faee6e"
      },
      "execution_count": null,
      "outputs": [
        {
          "output_type": "execute_result",
          "data": {
            "text/plain": [
              "Text(0.5, 1.0, 'ELBOW PLOT')"
            ]
          },
          "metadata": {},
          "execution_count": 24
        },
        {
          "output_type": "display_data",
          "data": {
            "text/plain": [
              "<Figure size 720x576 with 1 Axes>"
            ],
            "image/png": "[encoded data removed]"
          },
          "metadata": {
            "needs_background": "light"
          }
        }
      ]
    },
    {
      "cell_type": "markdown",
      "source": [
        "###XGBOOST"
      ],
      "metadata": {
        "id": "Jd-76Z_2r2cL"
      }
    },
    {
      "cell_type": "code",
      "source": [
        "import pandas as pd\n",
        "import xgboost as xgb\n",
        "from sklearn.metrics import mean_squared_error\n",
        "from sklearn.metrics import r2_score\n",
        "from sklearn.metrics import mean_absolute_error\n",
        "from sklearn.model_selection import train_test_split\n",
        "import numpy\n",
        "from xgboost import XGBRegressor\n",
        "import sklearn.metrics as metrics\n",
        "from scipy.stats import reciprocal, uniform\n",
        "from sklearn.model_selection import cross_val_score, KFold\n",
        "import matplotlib.pyplot as plt \n",
        "from sklearn.metrics import accuracy_score"
      ],
      "metadata": {
        "id": "PXyLgsQ4tC9M"
      },
      "execution_count": null,
      "outputs": []
    },
    {
      "cell_type": "code",
      "source": [
        "normalized_data = pd.read_csv('normalized.csv')"
      ],
      "metadata": {
        "id": "qgLMdW2CtC9S"
      },
      "execution_count": null,
      "outputs": []
    },
    {
      "cell_type": "code",
      "source": [
        "normalized_data.shape"
      ],
      "metadata": {
        "id": "rM9F6fPbtC9T"
      },
      "execution_count": null,
      "outputs": []
    },
    {
      "cell_type": "code",
      "source": [
        "#Training the dataset using XGBoost model\n",
        "\n",
        "X = normalized_data.drop(['price'],axis=1)\n",
        "y = normalized_data[['price']]\n",
        "\n",
        "X_train, X_test, y_train, y_test = train_test_split(X, y, test_size=0.2, random_state=42) # For training\n",
        "X_train, X_valid, y_train, y_valid = train_test_split(X_train, y_train, test_size=0.2, random_state=42) #For Validation\n",
        "\n",
        "print(\"There are {} Training Data\".format(X_train.shape[0]))\n",
        "print(\"There are {} Testing Data\".format(X_test.shape[0]))\n",
        "print(\"There are {} Validation Data\".format(X_valid.shape[0]))\n"
      ],
      "metadata": {
        "id": "7X_KrdVGcckA"
      },
      "execution_count": null,
      "outputs": []
    },
    {
      "cell_type": "code",
      "source": [
        "#Fitting the model using default parameters\n",
        "\n",
        "xgbr = xgb.XGBRegressor() \n",
        "print(xgbr)\n",
        "XGBRegressor()\n",
        "#Fitting the model\n",
        "xgbr.fit(X_train, y_train)\n",
        "#check the model for training accuracy scores\n",
        "score = xgbr.score(X_train, y_train)  \n",
        "print(\"Training score: \", score)\n",
        "# Predict test data and check accuracy\n",
        "ypred = xgbr.predict(X_test)\n",
        "mae = mean_absolute_error(y_test, ypred)\n",
        "mse = mean_squared_error(y_test, ypred)\n",
        "print(\"RMSE: %.2f\" % (mse**(1/2.0)))\n",
        "r2 = r2_score(y_test, ypred)\n",
        "print(\"R2: %.2f\" % r2)\n",
        "print(\"MAE: %.2f\" % mae)\n"
      ],
      "metadata": {
        "id": "Co2RcIHEmKLG"
      },
      "execution_count": null,
      "outputs": []
    },
    {
      "cell_type": "markdown",
      "source": [
        "booster - tree\n",
        "min_child_weight - 1\n",
        "max_depth - 6\n",
        "max_leaf_nodes- either this or depth\n",
        "gamma - 0\n",
        "max_delta_step = 0\n",
        "subsample = 1\n",
        "colsample_bytree = 1\n",
        "colsample_bylevel = 1\n",
        "lambda = 1\n",
        "alpha = 0\n",
        "scale_pos_weight = 1\n",
        "objective - reg:linear\n",
        "seed = 0\n",
        "\n",
        "Learning rate lower"
      ],
      "metadata": {
        "id": "XNqXCpyzoP2f"
      }
    },
    {
      "cell_type": "code",
      "source": [
        "    # base_score=0.5, booster='gbtree', colsample_bylevel=1,\n",
        "    #    colsample_bynode=1, colsample_bytree=1, gamma=0,\n",
        "    #    importance_type='gain', learning_rate=0.1, max_delta_step=0,\n",
        "    #    max_depth=3, min_child_weight=1, missing=None, n_estimators=100,\n",
        "    #    n_jobs=1, nthread=None, objective='reg:linear', random_state=0,\n",
        "    #    reg_alpha=0, reg_lambda=1, scale_pos_weight=1, seed=None,\n",
        "    #    silent=None, subsample=1, verbosity=1)"
      ],
      "metadata": {
        "id": "6CXvQxu9mgsP"
      },
      "execution_count": null,
      "outputs": []
    },
    {
      "cell_type": "markdown",
      "source": [
        "Both methods show that the model is 70% accurate on average"
      ],
      "metadata": {
        "id": "p9S7Cqpgn0hV"
      }
    },
    {
      "cell_type": "code",
      "source": [
        "\n"
      ],
      "metadata": {
        "id": "e8uuaWB5mtZu"
      },
      "execution_count": null,
      "outputs": []
    },
    {
      "cell_type": "code",
      "source": [
        "#Predict validation data and check the prediction accuracy using mse and rmse metrics\n",
        "y_pred_valid = xgbr.predict(X_valid)\n",
        "mae = mean_absolute_error(y_valid, y_pred_valid)\n",
        "mse = mean_squared_error(y_valid, y_pred_valid)\n",
        "print(\"RMSE: %.2f\" % (mse**(1/2.0)))\n",
        "r2 = r2_score(y_valid, y_pred_valid)\n",
        "print(\"R2: %.2f\" % r2)\n",
        "print(\"MAE: %.2f\" %mae)"
      ],
      "metadata": {
        "id": "8IMu1kECoIYi"
      },
      "execution_count": null,
      "outputs": []
    },
    {
      "cell_type": "code",
      "source": [],
      "metadata": {
        "id": "jdcCXhayrcht"
      },
      "execution_count": null,
      "outputs": []
    },
    {
      "cell_type": "code",
      "source": [
        "x_ax = range(len(y_test))\n",
        "plt.plot(x_ax, y_test, label=\"original\")\n",
        "plt.plot(x_ax, ypred, label=\"predicted\")\n",
        "plt.title(\"Original data and predicted data\")\n",
        "plt.legend()\n",
        "plt.show()"
      ],
      "metadata": {
        "id": "yYiTmox6asvV"
      },
      "execution_count": null,
      "outputs": []
    },
    {
      "cell_type": "code",
      "source": [
        "#do hyper parameter tuning"
      ],
      "metadata": {
        "id": "AvDmIihMPjtc"
      },
      "execution_count": null,
      "outputs": []
    },
    {
      "cell_type": "code",
      "source": [
        "from sklearn.model_selection import GridSearchCV\n",
        "\n",
        "from sklearn.metrics import mean_squared_error\n",
        "from sklearn.metrics import mean_absolute_error\n",
        "\n",
        "param_tuning = {\n",
        "'learning_rate': [0.01, 0.1],\n",
        "'max_depth': [3, 5, 7, 10],\n",
        "'min_child_weight': [1, 3, 5],\n",
        "'subsample': [0.5, 0.7],\n",
        "'colsample_bytree': [0.5, 0.7],\n",
        "'objective': ['reg:squarederror']\n",
        "    }\n",
        "xgb_model = XGBRegressor()\n",
        "\n",
        "gsearch = GridSearchCV(estimator = xgb_model,\n",
        "                           param_grid = param_tuning,                        \n",
        "                           cv = 5,\n",
        "                           n_jobs = -1,\n",
        "                           verbose = 1)\n",
        "gsearch.fit(X_train,y_train)\n",
        "\n",
        "gsearch.best_params_\n",
        "    \n",
        "\n",
        "   "
      ],
      "metadata": {
        "id": "GJlY8bmo3j3i"
      },
      "execution_count": null,
      "outputs": []
    },
    {
      "cell_type": "code",
      "source": [
        "#testing you model using best parameters - validation\n",
        "best_model = XGBRegressor(colsample_bytree= 0.7,\n",
        " learning_rate= 0.1,\n",
        " max_depth= 7,\n",
        " min_child_weight= 3,\n",
        " objective='reg:squarederror',\n",
        " subsample= 0.7)\n",
        "\n",
        "best_model.fit(X_train, y_train)\n",
        "#check the model for training accuracy scores\n",
        "score = best_model.score(X_valid, y_valid)  \n",
        "print(\"HPT score: \", score)"
      ],
      "metadata": {
        "id": "uU_oxP-jrYWR"
      },
      "execution_count": null,
      "outputs": []
    },
    {
      "cell_type": "code",
      "source": [
        "#testing you model using best parameters - validation\n",
        "best_model = XGBRegressor(colsample_bytree= 0.7,\n",
        " learning_rate= 0.1,\n",
        " max_depth= 7,\n",
        " min_child_weight= 5,\n",
        " objective='reg:squarederror',\n",
        " subsample= 0.7)\n",
        "\n",
        "best_model.fit(X_train, y_train)\n",
        "#check the model for training accuracy scores\n",
        "score = best_model.score(X_valid, y_valid)  \n",
        "print(\"HPT score: \", score)"
      ],
      "metadata": {
        "id": "AoIngDZK6nQk"
      },
      "execution_count": null,
      "outputs": []
    },
    {
      "cell_type": "code",
      "source": [
        "best_model = XGBRegressor(colsample_bytree= 0.7, #testing using hpt\n",
        " learning_rate= 0.1,\n",
        " max_depth= 7,\n",
        " min_child_weight= 5,\n",
        " objective='reg:squarederror',\n",
        " subsample= 0.7)\n",
        "\n",
        "best_model.fit(X_test, y_test)\n",
        "#check the model for training accuracy scores\n",
        "score = best_model.score(X_test, y_test)  \n",
        "print(\"HPT score: \", score)"
      ],
      "metadata": {
        "id": "glZ29WzV8aeZ"
      },
      "execution_count": null,
      "outputs": []
    },
    {
      "cell_type": "code",
      "source": [
        "#validation hpt\n",
        "ypred = best_model.predict(X_valid) #checking the metrics\n",
        "mse = mean_squared_error(y_valid, ypred)\n",
        "mae = mean_absolute_error(y_valid, ypred)\n",
        "print(\"RMSE: %.2f\" % (mse**(1/2.0)))\n",
        "r2 = r2_score(y_valid, ypred)\n",
        "print(\"R2: %.2f\" % r2)\n",
        "print(\"MAE: %.2f\" % mae)"
      ],
      "metadata": {
        "id": "jKXBmvQEr6w4"
      },
      "execution_count": null,
      "outputs": []
    },
    {
      "cell_type": "code",
      "source": [
        "ypred = best_model.predict(X_test) #checking the metrics\n",
        "mse = mean_squared_error(y_test, ypred)\n",
        "mae = mean_absolute_error(y_test, ypred)\n",
        "print(\"RMSE: %.2f\" % (mse**(1/2.0)))\n",
        "r2 = r2_score(y_test, ypred)\n",
        "print(\"R2: %.2f\" % r2)\n",
        "print(\"MAE: %.2f\" % mae)\n"
      ],
      "metadata": {
        "id": "ozhpeU4X8twp"
      },
      "execution_count": null,
      "outputs": []
    },
    {
      "cell_type": "code",
      "source": [
        "from sklearn.model_selection import RandomizedSearchCV\n",
        "import numpy as np\n",
        "#Randomized search cv\n",
        "\n",
        "params = { 'max_depth': [3, 5, 6, 10, 15, 20],\n",
        "           'learning_rate': [0.01, 0.1, 0.2, 0.3],\n",
        "           'subsample': np.arange(0.5, 1.0, 0.1),\n",
        "           'colsample_bytree': np.arange(0.4, 1.0, 0.1),\n",
        "           'colsample_bylevel': np.arange(0.4, 1.0, 0.1),\n",
        "           'n_estimators': [100, 500, 1000]}\n",
        "xgbr = xgb.XGBRegressor(seed = 20)\n",
        "clf = RandomizedSearchCV(estimator=xgbr,\n",
        "                         param_distributions=params,\n",
        "                         scoring='neg_mean_squared_error',\n",
        "                         n_iter=25,\n",
        "                         verbose=1,cv=5)\n",
        "clf.fit(X_train, y_train)\n",
        "print(\"Best parameters:\", clf.best_params_)\n",
        "print(\"Lowest RMSE: \", (-clf.best_score_)**(1/2.0))"
      ],
      "metadata": {
        "id": "0FOleiRM6V1R"
      },
      "execution_count": null,
      "outputs": []
    },
    {
      "cell_type": "code",
      "source": [
        "#final one\n",
        "best_model_rs = XGBRegressor(subsample= 0.6, n_estimators= 1000,max_depth= 5, learning_rate= 0.01,colsample_bytree= 0.7999999999999999, colsample_bylevel= 0.4)\n",
        "\n",
        "best_model_rs.fit(X_train, y_train)\n",
        "#check the model for training accuracy scores\n",
        "score = best_model_rs.score(X_valid, y_valid)  \n",
        "print(\"HPT score random search: \", score)"
      ],
      "metadata": {
        "id": "XeXYZKIcv0Nn"
      },
      "execution_count": null,
      "outputs": []
    },
    {
      "cell_type": "code",
      "source": [
        "#CHECKING FOR RANDOMIZED SEARCH\n",
        "\n",
        "best_model_rs = XGBRegressor(subsample= 0.5, n_estimators= 100,max_depth= 6, learning_rate= 0.2,colsample_bytree= 0.7, colsample_bylevel= 0.6)\n",
        "\n",
        "best_model_rs.fit(X_train, y_train)\n",
        "#check the model for training accuracy scores\n",
        "score = best_model_rs.score(X_valid, y_valid)  \n",
        "print(\"HPT score random search: \", score)"
      ],
      "metadata": {
        "id": "dTP0J1oVONNN"
      },
      "execution_count": null,
      "outputs": []
    },
    {
      "cell_type": "code",
      "source": [
        "#validation randomsearch final\n",
        "ypred = best_model_rs.predict(X_valid)\n",
        "mse = mean_squared_error(y_valid, ypred)\n",
        "mae = mean_absolute_error(y_valid, ypred)\n",
        "print(\"RMSE: %.2f\" % (mse**(1/2.0)))\n",
        "r2 = r2_score(y_valid, ypred)\n",
        "print(\"R2: %.2f\" % r2)\n",
        "print(\"MAE: %.2f\" % mae)\n"
      ],
      "metadata": {
        "id": "MHFkIYXug6c9"
      },
      "execution_count": null,
      "outputs": []
    },
    {
      "cell_type": "code",
      "source": [
        "#testing randomsearch final\n",
        "ypred = best_model_rs.predict(X_test)\n",
        "mse = mean_squared_error(y_test, ypred)\n",
        "mae = mean_absolute_error(y_test, ypred)\n",
        "print(\"MAE: %.2f\" % mae)\n",
        "print(\"RMSE: %.2f\" % (mse**(1/2.0)))\n",
        "r2 = r2_score(y_test, ypred)\n",
        "print(\"R2: %.2f\" % r2)"
      ],
      "metadata": {
        "id": "DtexQ-jzhV5V"
      },
      "execution_count": null,
      "outputs": []
    },
    {
      "cell_type": "code",
      "source": [
        "#plot some graphs to check results"
      ],
      "metadata": {
        "id": "Pdw9Pdm5vpMA"
      },
      "execution_count": null,
      "outputs": []
    },
    {
      "cell_type": "code",
      "source": [
        "#choosing cross validation to evaluate training score\n",
        "scores = cross_val_score(xgbr, X, y,cv=10)\n",
        "print(\"Mean cross-validation score: %.2f\" % scores.mean())\n",
        "scores"
      ],
      "metadata": {
        "id": "Zg73BluenACe"
      },
      "execution_count": null,
      "outputs": []
    },
    {
      "cell_type": "code",
      "source": [
        "print(\"Mean cross-validation score: %.2f\" % scores.mean())"
      ],
      "metadata": {
        "id": "tBEX1vcJ0p9z"
      },
      "execution_count": null,
      "outputs": []
    },
    {
      "cell_type": "code",
      "source": [
        "#Using Kfold cross validation method to get accuracy\n",
        "kfold = KFold(n_splits=10, shuffle=True)\n",
        "kf_cv_scores = cross_val_score(xgbr, X, y, cv=kfold )\n",
        "print(\"K-fold CV average score: %.2f\" % kf_cv_scores.mean())"
      ],
      "metadata": {
        "id": "nV_tVbXEnVEt"
      },
      "execution_count": null,
      "outputs": []
    }
  ],
  "metadata": {
    "colab": {
      "collapsed_sections": [
        "Mmedb-4Xhzm8",
        "AtqcHfp7c_ww",
        "BhennVrGdWRM",
        "AZ7A6Lp2c_JU",
        "hbJ5o7O2WMPT",
        "Midm86pjiIcB",
        "cbdgvrLV6YOG",
        "VWUI6wGn6Jtm",
        "N1Y0cjM20eb3",
        "vdPgpP2szx4j",
        "LGA1T7CX5DZN",
        "TuEHYHOJ1353",
        "yb8_KxY02jhB",
        "O8TuJNoM8FMR",
        "lFuqS7gOTfkw"
      ],
      "provenance": [],
      "toc_visible": true
    },
    "kernelspec": {
      "display_name": "Python 3",
      "name": "python3"
    },
    "language_info": {
      "name": "python"
    }
  },
  "nbformat": 4,
  "nbformat_minor": 0
}